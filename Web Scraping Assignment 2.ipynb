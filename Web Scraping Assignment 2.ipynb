{
 "cells": [
  {
   "cell_type": "code",
   "execution_count": 1,
   "id": "1d155e59",
   "metadata": {
    "scrolled": true
   },
   "outputs": [
    {
     "name": "stdout",
     "output_type": "stream",
     "text": [
      "Requirement already satisfied: selenium in c:\\users\\palsj\\anaconda3\\lib\\site-packages (4.5.0)\n",
      "Requirement already satisfied: urllib3[socks]~=1.26 in c:\\users\\palsj\\anaconda3\\lib\\site-packages (from selenium) (1.26.7)\n",
      "Requirement already satisfied: trio~=0.17 in c:\\users\\palsj\\anaconda3\\lib\\site-packages (from selenium) (0.22.0)\n",
      "Requirement already satisfied: trio-websocket~=0.9 in c:\\users\\palsj\\anaconda3\\lib\\site-packages (from selenium) (0.9.2)\n",
      "Requirement already satisfied: certifi>=2021.10.8 in c:\\users\\palsj\\anaconda3\\lib\\site-packages (from selenium) (2021.10.8)\n",
      "Requirement already satisfied: sortedcontainers in c:\\users\\palsj\\anaconda3\\lib\\site-packages (from trio~=0.17->selenium) (2.4.0)\n",
      "Requirement already satisfied: outcome in c:\\users\\palsj\\anaconda3\\lib\\site-packages (from trio~=0.17->selenium) (1.2.0)\n",
      "Requirement already satisfied: attrs>=19.2.0 in c:\\users\\palsj\\anaconda3\\lib\\site-packages (from trio~=0.17->selenium) (21.2.0)\n",
      "Requirement already satisfied: idna in c:\\users\\palsj\\anaconda3\\lib\\site-packages (from trio~=0.17->selenium) (3.2)\n",
      "Requirement already satisfied: async-generator>=1.9 in c:\\users\\palsj\\anaconda3\\lib\\site-packages (from trio~=0.17->selenium) (1.10)\n",
      "Requirement already satisfied: exceptiongroup>=1.0.0rc9 in c:\\users\\palsj\\anaconda3\\lib\\site-packages (from trio~=0.17->selenium) (1.0.0rc9)\n",
      "Requirement already satisfied: sniffio in c:\\users\\palsj\\anaconda3\\lib\\site-packages (from trio~=0.17->selenium) (1.2.0)\n",
      "Requirement already satisfied: cffi>=1.14 in c:\\users\\palsj\\anaconda3\\lib\\site-packages (from trio~=0.17->selenium) (1.14.6)\n",
      "Requirement already satisfied: pycparser in c:\\users\\palsj\\anaconda3\\lib\\site-packages (from cffi>=1.14->trio~=0.17->selenium) (2.20)\n",
      "Requirement already satisfied: wsproto>=0.14 in c:\\users\\palsj\\anaconda3\\lib\\site-packages (from trio-websocket~=0.9->selenium) (1.2.0)\n",
      "Requirement already satisfied: PySocks!=1.5.7,<2.0,>=1.5.6 in c:\\users\\palsj\\anaconda3\\lib\\site-packages (from urllib3[socks]~=1.26->selenium) (1.7.1)\n",
      "Requirement already satisfied: h11<1,>=0.9.0 in c:\\users\\palsj\\anaconda3\\lib\\site-packages (from wsproto>=0.14->trio-websocket~=0.9->selenium) (0.14.0)\n"
     ]
    }
   ],
   "source": [
    "!pip install selenium"
   ]
  },
  {
   "cell_type": "markdown",
   "id": "1345858d",
   "metadata": {},
   "source": [
    "Solution 1"
   ]
  },
  {
   "cell_type": "code",
   "execution_count": 1,
   "id": "ffadd0b5",
   "metadata": {},
   "outputs": [],
   "source": [
    "#import all the required libraries\n",
    "import selenium\n",
    "import pandas as pd\n",
    "from selenium import webdriver\n",
    "import warnings\n",
    "warnings.filterwarnings('ignore')\n",
    "from selenium.webdriver.common.by import By\n",
    "import time"
   ]
  },
  {
   "cell_type": "code",
   "execution_count": 2,
   "id": "cf1044b8",
   "metadata": {},
   "outputs": [],
   "source": [
    "#Now we will download the webdriver for the web browser.steps for download are-\n",
    "#1.click the version of your browser \n",
    "#2.Go to the link https://chromedriver.chromium.org/downloads\n",
    "#3.Download the webdriver for your version of youe browser"
   ]
  },
  {
   "cell_type": "code",
   "execution_count": 3,
   "id": "30e6d730",
   "metadata": {},
   "outputs": [],
   "source": [
    "#first connect to the driver\n",
    "driver=webdriver.Chrome(r\"C:\\Users\\palsj\\Downloads\\chromedriver.exe\")"
   ]
  },
  {
   "cell_type": "code",
   "execution_count": 4,
   "id": "7876df6a",
   "metadata": {},
   "outputs": [],
   "source": [
    "#opening the naukari page on automated chorme browser\n",
    "driver.get(\"https://www.naukri.com/\")"
   ]
  },
  {
   "cell_type": "code",
   "execution_count": 5,
   "id": "654bdb06",
   "metadata": {},
   "outputs": [],
   "source": [
    "#Enter “Data Analyst” in “Skill, Designations, Companies” field and enter “Bangalore” in “enter the location” field.\n",
    "Designation=driver.find_element(By.CLASS_NAME,\"suggestor-input \")\n",
    "Designation.send_keys(\"Data Analyst\")"
   ]
  },
  {
   "cell_type": "code",
   "execution_count": 6,
   "id": "39788d4e",
   "metadata": {},
   "outputs": [],
   "source": [
    "Location=driver.find_element(By.XPATH,\"/html/body/div[1]/div[6]/div/div/div[5]/div/div/div/input\")\n",
    "Location.send_keys(\"Bangalore\")"
   ]
  },
  {
   "cell_type": "code",
   "execution_count": 7,
   "id": "38f5ee05",
   "metadata": {},
   "outputs": [],
   "source": [
    "Search=driver.find_element(By.CLASS_NAME,\"qsbSubmit\")\n",
    "Search.click()"
   ]
  },
  {
   "cell_type": "code",
   "execution_count": 8,
   "id": "9ed43140",
   "metadata": {},
   "outputs": [],
   "source": [
    "job_title=[]\n",
    "job_location=[]\n",
    "Company_name=[]\n",
    "Experience_required=[]"
   ]
  },
  {
   "cell_type": "code",
   "execution_count": 9,
   "id": "fa9ecaa2",
   "metadata": {},
   "outputs": [],
   "source": [
    "#Scraping job title for the given page\n",
    "title_tags=driver.find_elements(By.XPATH,'//a[@class=\"title fw500 ellipsis\"]')\n",
    "for i in title_tags[0:10]:\n",
    "    title=i.text\n",
    "    job_title.append(title)\n",
    "    \n",
    "#Scraping job location for the given page\n",
    "location_tags=driver.find_elements(By.XPATH,'//li[@class=\"fleft grey-text br2 placeHolderLi location\"]')\n",
    "for i in location_tags[0:10]:\n",
    "    location=i.text\n",
    "    job_location.append(location)\n",
    "    \n",
    "#Scraping Company Name for the given page\n",
    "Company_tags=driver.find_elements(By.XPATH,'//a[@class=\"subTitle ellipsis fleft\"]')\n",
    "for i in Company_tags[0:10]:\n",
    "    Company=i.text\n",
    "    Company_name.append(Company)\n",
    "    \n",
    "#Scraping job experience for the given page\n",
    "Experience_tags=driver.find_elements(By.XPATH,'//li[@class=\"fleft grey-text br2 placeHolderLi experience\"]')\n",
    "for i in Experience_tags[0:10]:\n",
    "    Experience=i.text\n",
    "    Experience_required.append(Experience)"
   ]
  },
  {
   "cell_type": "code",
   "execution_count": 10,
   "id": "ad4fb322",
   "metadata": {},
   "outputs": [
    {
     "name": "stdout",
     "output_type": "stream",
     "text": [
      "10 10 10 10\n"
     ]
    }
   ],
   "source": [
    "print(len(job_title),len(job_location),len(Company_name),len(Experience_required))"
   ]
  },
  {
   "cell_type": "markdown",
   "id": "d3de3391",
   "metadata": {},
   "source": [
    "Creating a dataframe from the above data"
   ]
  },
  {
   "cell_type": "code",
   "execution_count": 11,
   "id": "7fe91b8c",
   "metadata": {},
   "outputs": [
    {
     "data": {
      "text/html": [
       "<div>\n",
       "<style scoped>\n",
       "    .dataframe tbody tr th:only-of-type {\n",
       "        vertical-align: middle;\n",
       "    }\n",
       "\n",
       "    .dataframe tbody tr th {\n",
       "        vertical-align: top;\n",
       "    }\n",
       "\n",
       "    .dataframe thead th {\n",
       "        text-align: right;\n",
       "    }\n",
       "</style>\n",
       "<table border=\"1\" class=\"dataframe\">\n",
       "  <thead>\n",
       "    <tr style=\"text-align: right;\">\n",
       "      <th></th>\n",
       "      <th>Job_title</th>\n",
       "      <th>Job_location</th>\n",
       "      <th>Company_name</th>\n",
       "      <th>Experience_required</th>\n",
       "    </tr>\n",
       "  </thead>\n",
       "  <tbody>\n",
       "    <tr>\n",
       "      <th>0</th>\n",
       "      <td>Data Analyst</td>\n",
       "      <td>Bangalore/Bengaluru</td>\n",
       "      <td>Yulu</td>\n",
       "      <td>0-2 Yrs</td>\n",
       "    </tr>\n",
       "    <tr>\n",
       "      <th>1</th>\n",
       "      <td>Business/Data Analyst Lead</td>\n",
       "      <td>Bangalore/Bengaluru</td>\n",
       "      <td>Johnson Controls</td>\n",
       "      <td>6-7 Yrs</td>\n",
       "    </tr>\n",
       "    <tr>\n",
       "      <th>2</th>\n",
       "      <td>Senior Data Analyst</td>\n",
       "      <td>Bangalore/Bengaluru</td>\n",
       "      <td>Schneider Electric</td>\n",
       "      <td>3-6 Yrs</td>\n",
       "    </tr>\n",
       "    <tr>\n",
       "      <th>3</th>\n",
       "      <td>Data Analyst II</td>\n",
       "      <td>Bangalore/Bengaluru</td>\n",
       "      <td>Uber</td>\n",
       "      <td>2-7 Yrs</td>\n",
       "    </tr>\n",
       "    <tr>\n",
       "      <th>4</th>\n",
       "      <td>Senior Data Analyst | Fortune500 Banking Company</td>\n",
       "      <td>Bangalore/Bengaluru</td>\n",
       "      <td>Talent500</td>\n",
       "      <td>4-9 Yrs</td>\n",
       "    </tr>\n",
       "    <tr>\n",
       "      <th>5</th>\n",
       "      <td>Reference Data Analyst</td>\n",
       "      <td>Bangalore/Bengaluru</td>\n",
       "      <td>Deutsche Bank</td>\n",
       "      <td>0-6 Yrs</td>\n",
       "    </tr>\n",
       "    <tr>\n",
       "      <th>6</th>\n",
       "      <td>Senior Data Analyst</td>\n",
       "      <td>Temp. WFH - Bangalore/Bengaluru, Hyderabad/Sec...</td>\n",
       "      <td>Inspire Analytics</td>\n",
       "      <td>3-5 Yrs</td>\n",
       "    </tr>\n",
       "    <tr>\n",
       "      <th>7</th>\n",
       "      <td>Reference Data Analyst</td>\n",
       "      <td>Bangalore/Bengaluru</td>\n",
       "      <td>Deutsche Bank</td>\n",
       "      <td>3-6 Yrs</td>\n",
       "    </tr>\n",
       "    <tr>\n",
       "      <th>8</th>\n",
       "      <td>Senior Data Analyst</td>\n",
       "      <td>Hybrid - Bangalore/Bengaluru</td>\n",
       "      <td>ABInBev</td>\n",
       "      <td>4-8 Yrs</td>\n",
       "    </tr>\n",
       "    <tr>\n",
       "      <th>9</th>\n",
       "      <td>Senior Data Analyst</td>\n",
       "      <td>Bangalore/Bengaluru</td>\n",
       "      <td>Thomson Reuters</td>\n",
       "      <td>4-6 Yrs</td>\n",
       "    </tr>\n",
       "  </tbody>\n",
       "</table>\n",
       "</div>"
      ],
      "text/plain": [
       "                                          Job_title  \\\n",
       "0                                      Data Analyst   \n",
       "1                        Business/Data Analyst Lead   \n",
       "2                               Senior Data Analyst   \n",
       "3                                   Data Analyst II   \n",
       "4  Senior Data Analyst | Fortune500 Banking Company   \n",
       "5                            Reference Data Analyst   \n",
       "6                               Senior Data Analyst   \n",
       "7                            Reference Data Analyst   \n",
       "8                               Senior Data Analyst   \n",
       "9                               Senior Data Analyst   \n",
       "\n",
       "                                        Job_location        Company_name  \\\n",
       "0                                Bangalore/Bengaluru                Yulu   \n",
       "1                                Bangalore/Bengaluru    Johnson Controls   \n",
       "2                                Bangalore/Bengaluru  Schneider Electric   \n",
       "3                                Bangalore/Bengaluru                Uber   \n",
       "4                                Bangalore/Bengaluru           Talent500   \n",
       "5                                Bangalore/Bengaluru       Deutsche Bank   \n",
       "6  Temp. WFH - Bangalore/Bengaluru, Hyderabad/Sec...   Inspire Analytics   \n",
       "7                                Bangalore/Bengaluru       Deutsche Bank   \n",
       "8                       Hybrid - Bangalore/Bengaluru             ABInBev   \n",
       "9                                Bangalore/Bengaluru     Thomson Reuters   \n",
       "\n",
       "  Experience_required  \n",
       "0             0-2 Yrs  \n",
       "1             6-7 Yrs  \n",
       "2             3-6 Yrs  \n",
       "3             2-7 Yrs  \n",
       "4             4-9 Yrs  \n",
       "5             0-6 Yrs  \n",
       "6             3-5 Yrs  \n",
       "7             3-6 Yrs  \n",
       "8             4-8 Yrs  \n",
       "9             4-6 Yrs  "
      ]
     },
     "execution_count": 11,
     "metadata": {},
     "output_type": "execute_result"
    }
   ],
   "source": [
    "df=pd.DataFrame({'Job_title':job_title,'Job_location':job_location,'Company_name':Company_name,'Experience_required':Experience_required})\n",
    "df"
   ]
  },
  {
   "cell_type": "markdown",
   "id": "63709425",
   "metadata": {},
   "source": [
    "Solution 2"
   ]
  },
  {
   "cell_type": "code",
   "execution_count": 12,
   "id": "de77d0f7",
   "metadata": {},
   "outputs": [],
   "source": [
    "#import all the required libraries\n",
    "import selenium\n",
    "import pandas as pd\n",
    "from selenium import webdriver\n",
    "import warnings\n",
    "warnings.filterwarnings('ignore')\n",
    "from selenium.webdriver.common.by import By\n",
    "import time"
   ]
  },
  {
   "cell_type": "code",
   "execution_count": 13,
   "id": "57536ead",
   "metadata": {},
   "outputs": [],
   "source": [
    "#Now we will download the webdriver for the web browser.steps for download are-\n",
    "#1.click the version of your browser \n",
    "#2.Go to the link https://chromedriver.chromium.org/downloads\n",
    "#3.Download the webdriver for your version of youe browser"
   ]
  },
  {
   "cell_type": "code",
   "execution_count": 14,
   "id": "e36591bc",
   "metadata": {},
   "outputs": [],
   "source": [
    "#first connect to the driver\n",
    "driver=webdriver.Chrome(r\"C:\\Users\\palsj\\Downloads\\chromedriver.exe\")"
   ]
  },
  {
   "cell_type": "code",
   "execution_count": 15,
   "id": "c436fbce",
   "metadata": {},
   "outputs": [],
   "source": [
    "#opening the naukari page on automated chorme browser\n",
    "driver.get(\"https://www.naukri.com/\")"
   ]
  },
  {
   "cell_type": "code",
   "execution_count": 16,
   "id": "11863dee",
   "metadata": {},
   "outputs": [],
   "source": [
    "#Enter “Data Scientist” in “Skill, Designations, Companies” field and enter “Bangalore” in “enter the location” field.\n",
    "Designation=driver.find_element(By.CLASS_NAME,\"suggestor-input \")\n",
    "Designation.send_keys(\"Data Scientist\")"
   ]
  },
  {
   "cell_type": "code",
   "execution_count": 17,
   "id": "c2bad24e",
   "metadata": {},
   "outputs": [],
   "source": [
    "Location=driver.find_element(By.XPATH,\"/html/body/div[1]/div[6]/div/div/div[5]/div/div/div/input\")\n",
    "Location.send_keys(\"Bangalore\")"
   ]
  },
  {
   "cell_type": "code",
   "execution_count": 18,
   "id": "d8fdd430",
   "metadata": {},
   "outputs": [],
   "source": [
    "Search=driver.find_element(By.CLASS_NAME,\"qsbSubmit\")\n",
    "Search.click()"
   ]
  },
  {
   "cell_type": "code",
   "execution_count": 19,
   "id": "31daab7d",
   "metadata": {},
   "outputs": [],
   "source": [
    "job_titles=[]\n",
    "job_location=[]\n",
    "Company_name=[]"
   ]
  },
  {
   "cell_type": "code",
   "execution_count": 20,
   "id": "4a0c1042",
   "metadata": {},
   "outputs": [],
   "source": [
    "#Scraping job title for the given page\n",
    "title_tags=driver.find_elements(By.XPATH,'//a[@class=\"title fw500 ellipsis\"]')\n",
    "for i in title_tags[0:10]:\n",
    "    title=i.text\n",
    "    job_titles.append(title)"
   ]
  },
  {
   "cell_type": "code",
   "execution_count": 21,
   "id": "2df725f9",
   "metadata": {},
   "outputs": [],
   "source": [
    "#Scraping job location for the given page\n",
    "location_tags=driver.find_elements(By.XPATH,'//li[@class=\"fleft grey-text br2 placeHolderLi location\"]')\n",
    "for i in location_tags[0:10]:\n",
    "    location=i.text\n",
    "    job_location.append(location)"
   ]
  },
  {
   "cell_type": "code",
   "execution_count": 22,
   "id": "d2b8f5a0",
   "metadata": {},
   "outputs": [],
   "source": [
    "#Scraping Company Name for the given page\n",
    "Company_tags=driver.find_elements(By.XPATH,'//a[@class=\"subTitle ellipsis fleft\"]')\n",
    "for i in Company_tags[0:10]:\n",
    "    Company=i.text\n",
    "    Company_name.append(Company)"
   ]
  },
  {
   "cell_type": "code",
   "execution_count": 23,
   "id": "7b597353",
   "metadata": {},
   "outputs": [
    {
     "name": "stdout",
     "output_type": "stream",
     "text": [
      "10 10 10\n"
     ]
    }
   ],
   "source": [
    "print(len(job_location),len(Company_name),len(job_titles))"
   ]
  },
  {
   "cell_type": "markdown",
   "id": "071b2d56",
   "metadata": {},
   "source": [
    "Creating a dataframe from the above data"
   ]
  },
  {
   "cell_type": "code",
   "execution_count": 24,
   "id": "30068a79",
   "metadata": {},
   "outputs": [
    {
     "data": {
      "text/html": [
       "<div>\n",
       "<style scoped>\n",
       "    .dataframe tbody tr th:only-of-type {\n",
       "        vertical-align: middle;\n",
       "    }\n",
       "\n",
       "    .dataframe tbody tr th {\n",
       "        vertical-align: top;\n",
       "    }\n",
       "\n",
       "    .dataframe thead th {\n",
       "        text-align: right;\n",
       "    }\n",
       "</style>\n",
       "<table border=\"1\" class=\"dataframe\">\n",
       "  <thead>\n",
       "    <tr style=\"text-align: right;\">\n",
       "      <th></th>\n",
       "      <th>Job_title</th>\n",
       "      <th>Job_location</th>\n",
       "      <th>Company_name</th>\n",
       "    </tr>\n",
       "  </thead>\n",
       "  <tbody>\n",
       "    <tr>\n",
       "      <th>0</th>\n",
       "      <td>Data Scientist</td>\n",
       "      <td>Bangalore/Bengaluru, New Delhi, Hyderabad/Secu...</td>\n",
       "      <td>Tata Nexarc</td>\n",
       "    </tr>\n",
       "    <tr>\n",
       "      <th>1</th>\n",
       "      <td>Analystics &amp; Modeling Specialist</td>\n",
       "      <td>Bangalore/Bengaluru, Kolkata, Mumbai, Hyderaba...</td>\n",
       "      <td>Accenture</td>\n",
       "    </tr>\n",
       "    <tr>\n",
       "      <th>2</th>\n",
       "      <td>Data Scientist</td>\n",
       "      <td>Hybrid - Bangalore/Bengaluru, Noida, Kolkata, ...</td>\n",
       "      <td>Mindtree</td>\n",
       "    </tr>\n",
       "    <tr>\n",
       "      <th>3</th>\n",
       "      <td>Senior Analyst-Data Science</td>\n",
       "      <td>Bangalore/Bengaluru</td>\n",
       "      <td>Accenture</td>\n",
       "    </tr>\n",
       "    <tr>\n",
       "      <th>4</th>\n",
       "      <td>Technical Expert - AI &amp; Industrial Data Science</td>\n",
       "      <td>Bangalore/Bengaluru</td>\n",
       "      <td>Siemens</td>\n",
       "    </tr>\n",
       "    <tr>\n",
       "      <th>5</th>\n",
       "      <td>Data Scientist - II</td>\n",
       "      <td>Bangalore/Bengaluru, India, Mumbai (All Areas)</td>\n",
       "      <td>Bizongo</td>\n",
       "    </tr>\n",
       "    <tr>\n",
       "      <th>6</th>\n",
       "      <td>Lead ML Scientist</td>\n",
       "      <td>Bangalore/Bengaluru, Mumbai</td>\n",
       "      <td>Fractal Analytics</td>\n",
       "    </tr>\n",
       "    <tr>\n",
       "      <th>7</th>\n",
       "      <td>Senior Data Scientist</td>\n",
       "      <td>Bangalore/Bengaluru, Mumbai</td>\n",
       "      <td>Baker Hughes</td>\n",
       "    </tr>\n",
       "    <tr>\n",
       "      <th>8</th>\n",
       "      <td>Lead Data Scientist</td>\n",
       "      <td>Bangalore/Bengaluru</td>\n",
       "      <td>Yulu</td>\n",
       "    </tr>\n",
       "    <tr>\n",
       "      <th>9</th>\n",
       "      <td>Decision Science</td>\n",
       "      <td>Bangalore/Bengaluru</td>\n",
       "      <td>Fractal Analytics</td>\n",
       "    </tr>\n",
       "  </tbody>\n",
       "</table>\n",
       "</div>"
      ],
      "text/plain": [
       "                                         Job_title  \\\n",
       "0                                   Data Scientist   \n",
       "1                 Analystics & Modeling Specialist   \n",
       "2                                   Data Scientist   \n",
       "3                      Senior Analyst-Data Science   \n",
       "4  Technical Expert - AI & Industrial Data Science   \n",
       "5                              Data Scientist - II   \n",
       "6                                Lead ML Scientist   \n",
       "7                            Senior Data Scientist   \n",
       "8                              Lead Data Scientist   \n",
       "9                                 Decision Science   \n",
       "\n",
       "                                        Job_location       Company_name  \n",
       "0  Bangalore/Bengaluru, New Delhi, Hyderabad/Secu...        Tata Nexarc  \n",
       "1  Bangalore/Bengaluru, Kolkata, Mumbai, Hyderaba...          Accenture  \n",
       "2  Hybrid - Bangalore/Bengaluru, Noida, Kolkata, ...           Mindtree  \n",
       "3                                Bangalore/Bengaluru          Accenture  \n",
       "4                                Bangalore/Bengaluru            Siemens  \n",
       "5     Bangalore/Bengaluru, India, Mumbai (All Areas)            Bizongo  \n",
       "6                        Bangalore/Bengaluru, Mumbai  Fractal Analytics  \n",
       "7                        Bangalore/Bengaluru, Mumbai       Baker Hughes  \n",
       "8                                Bangalore/Bengaluru               Yulu  \n",
       "9                                Bangalore/Bengaluru  Fractal Analytics  "
      ]
     },
     "execution_count": 24,
     "metadata": {},
     "output_type": "execute_result"
    }
   ],
   "source": [
    "df=pd.DataFrame({'Job_title':job_titles,'Job_location':job_location,'Company_name':Company_name,})\n",
    "df"
   ]
  },
  {
   "cell_type": "markdown",
   "id": "3a610df3",
   "metadata": {},
   "source": [
    "Solution 3"
   ]
  },
  {
   "cell_type": "code",
   "execution_count": 25,
   "id": "c4fe6301",
   "metadata": {},
   "outputs": [],
   "source": [
    "#import all the required libraries\n",
    "import selenium\n",
    "import pandas as pd\n",
    "from selenium import webdriver\n",
    "import warnings\n",
    "warnings.filterwarnings('ignore')\n",
    "from selenium.webdriver.common.by import By\n",
    "import time"
   ]
  },
  {
   "cell_type": "code",
   "execution_count": 26,
   "id": "c9c6b6c5",
   "metadata": {},
   "outputs": [],
   "source": [
    "#Now we will download the webdriver for the web browser.steps for download are-\n",
    "#1.click the version of your browser \n",
    "#2.Go to the link https://chromedriver.chromium.org/downloads\n",
    "#3.Download the webdriver for your version of youe browser"
   ]
  },
  {
   "cell_type": "code",
   "execution_count": 27,
   "id": "5433e142",
   "metadata": {},
   "outputs": [],
   "source": [
    "#first connect to the driver\n",
    "driver=webdriver.Chrome(r\"C:\\Users\\palsj\\Downloads\\chromedriver.exe\")"
   ]
  },
  {
   "cell_type": "code",
   "execution_count": 28,
   "id": "d43fe61e",
   "metadata": {},
   "outputs": [],
   "source": [
    "#opening the naukari page on automated chorme browser\n",
    "driver.get(\"https://www.naukri.com/\")"
   ]
  },
  {
   "cell_type": "code",
   "execution_count": 29,
   "id": "09226f22",
   "metadata": {},
   "outputs": [],
   "source": [
    "#Enter “Data Scientist” in “Skill, Designations, Companies” field.\n",
    "Designation=driver.find_element(By.CLASS_NAME,\"suggestor-input \")\n",
    "Designation.send_keys(\"Data Scientist\")"
   ]
  },
  {
   "cell_type": "code",
   "execution_count": 30,
   "id": "df305e24",
   "metadata": {},
   "outputs": [],
   "source": [
    "Location=driver.find_element(By.XPATH,\"/html/body/div[1]/div[6]/div/div/div[5]/div/div/div/input\")\n",
    "Location.send_keys(\"Delhi/NCR\")"
   ]
  },
  {
   "cell_type": "code",
   "execution_count": 31,
   "id": "bfc2f16a",
   "metadata": {},
   "outputs": [],
   "source": [
    "Search=driver.find_element(By.CLASS_NAME,\"qsbSubmit\")\n",
    "Search.click()"
   ]
  },
  {
   "cell_type": "code",
   "execution_count": 32,
   "id": "50e19ac0",
   "metadata": {},
   "outputs": [],
   "source": [
    "Search=driver.find_element(By.XPATH,'//div[@class=\"mt-8 chckBoxCont\"]')\n",
    "Search.click()"
   ]
  },
  {
   "cell_type": "code",
   "execution_count": 33,
   "id": "6c69e798",
   "metadata": {},
   "outputs": [],
   "source": [
    "job_title=[]\n",
    "job_location=[]\n",
    "Company_name=[]\n",
    "Experience_required=[]"
   ]
  },
  {
   "cell_type": "code",
   "execution_count": 34,
   "id": "23d56027",
   "metadata": {},
   "outputs": [],
   "source": [
    "#Scraping job title for the given page\n",
    "title_tags=driver.find_elements(By.XPATH,'//a[@class=\"title fw500 ellipsis\"]')\n",
    "for i in title_tags[0:10]:\n",
    "    title=i.text\n",
    "    job_title.append(title)\n",
    "    \n",
    "#Scraping job location for the given page\n",
    "location_tags=driver.find_elements(By.XPATH,'//li[@class=\"fleft grey-text br2 placeHolderLi location\"]')\n",
    "for i in location_tags[0:10]:\n",
    "    location=i.text\n",
    "    job_location.append(location)\n",
    "    \n",
    "#Scraping Company Name for the given page\n",
    "Company_tags=driver.find_elements(By.XPATH,'//a[@class=\"subTitle ellipsis fleft\"]')\n",
    "for i in Company_tags[0:10]:\n",
    "    Company=i.text\n",
    "    Company_name.append(Company)\n",
    "    \n",
    "#Scraping job experience for the given page\n",
    "Experience_tags=driver.find_elements(By.XPATH,'//li[@class=\"fleft grey-text br2 placeHolderLi experience\"]')\n",
    "for i in Experience_tags[0:10]:\n",
    "    Experience=i.text\n",
    "    Experience_required.append(Experience)"
   ]
  },
  {
   "cell_type": "code",
   "execution_count": 35,
   "id": "b79b9992",
   "metadata": {},
   "outputs": [
    {
     "name": "stdout",
     "output_type": "stream",
     "text": [
      "10 10 10 10\n"
     ]
    }
   ],
   "source": [
    "print(len(job_title),len(job_location),len(Company_name),len(Experience_required))"
   ]
  },
  {
   "cell_type": "markdown",
   "id": "aab113fa",
   "metadata": {},
   "source": [
    "Creating a dataframe from the above data"
   ]
  },
  {
   "cell_type": "code",
   "execution_count": 36,
   "id": "7616ab76",
   "metadata": {},
   "outputs": [
    {
     "data": {
      "text/html": [
       "<div>\n",
       "<style scoped>\n",
       "    .dataframe tbody tr th:only-of-type {\n",
       "        vertical-align: middle;\n",
       "    }\n",
       "\n",
       "    .dataframe tbody tr th {\n",
       "        vertical-align: top;\n",
       "    }\n",
       "\n",
       "    .dataframe thead th {\n",
       "        text-align: right;\n",
       "    }\n",
       "</style>\n",
       "<table border=\"1\" class=\"dataframe\">\n",
       "  <thead>\n",
       "    <tr style=\"text-align: right;\">\n",
       "      <th></th>\n",
       "      <th>Job_title</th>\n",
       "      <th>Job_location</th>\n",
       "      <th>Company_name</th>\n",
       "      <th>Experience_required</th>\n",
       "    </tr>\n",
       "  </thead>\n",
       "  <tbody>\n",
       "    <tr>\n",
       "      <th>0</th>\n",
       "      <td>Diversity Drive_Capco</td>\n",
       "      <td>Hybrid - Pune, Bangalore/Bengaluru, Mumbai (Al...</td>\n",
       "      <td>Capco</td>\n",
       "      <td>0-0 Yrs</td>\n",
       "    </tr>\n",
       "    <tr>\n",
       "      <th>1</th>\n",
       "      <td>Urgent Opening For Angular (10 to14 versions) ...</td>\n",
       "      <td>Kolkata, Visakhapatnam, Hyderabad/Secunderabad...</td>\n",
       "      <td>Tech Mahindra</td>\n",
       "      <td>3-7 Yrs</td>\n",
       "    </tr>\n",
       "    <tr>\n",
       "      <th>2</th>\n",
       "      <td>HCL TECH - Opening For Python</td>\n",
       "      <td>Hybrid - Kolkata, Hyderabad/Secunderabad, Pune...</td>\n",
       "      <td>HCLTech</td>\n",
       "      <td>5-9 Yrs</td>\n",
       "    </tr>\n",
       "    <tr>\n",
       "      <th>3</th>\n",
       "      <td>HCL TECH - Opening For Collibra</td>\n",
       "      <td>Hybrid - Kolkata, Hyderabad/Secunderabad, Pune...</td>\n",
       "      <td>HCLTech</td>\n",
       "      <td>7-10 Yrs</td>\n",
       "    </tr>\n",
       "    <tr>\n",
       "      <th>4</th>\n",
       "      <td>HCL TECH - Opening For Kafka</td>\n",
       "      <td>Hybrid - Kolkata, Hyderabad/Secunderabad, Pune...</td>\n",
       "      <td>HCLTech</td>\n",
       "      <td>5-9 Yrs</td>\n",
       "    </tr>\n",
       "    <tr>\n",
       "      <th>5</th>\n",
       "      <td>HCL TECH - Opening For Hyperion DRM</td>\n",
       "      <td>Hybrid - Kolkata, Hyderabad/Secunderabad, Pune...</td>\n",
       "      <td>HCLTech</td>\n",
       "      <td>5-10 Yrs</td>\n",
       "    </tr>\n",
       "    <tr>\n",
       "      <th>6</th>\n",
       "      <td>HCL TECH - Opening For Hyperion developer</td>\n",
       "      <td>Hybrid - Kolkata, Hyderabad/Secunderabad, Pune...</td>\n",
       "      <td>HCLTech</td>\n",
       "      <td>5-10 Yrs</td>\n",
       "    </tr>\n",
       "    <tr>\n",
       "      <th>7</th>\n",
       "      <td>Content Lead - Manager</td>\n",
       "      <td>Kolkata, Mumbai, Hyderabad/Secunderabad, Pune,...</td>\n",
       "      <td>Accenture</td>\n",
       "      <td>8-13 Yrs</td>\n",
       "    </tr>\n",
       "    <tr>\n",
       "      <th>8</th>\n",
       "      <td>Sales Operations Specialist</td>\n",
       "      <td>Kolkata, Mumbai, Hyderabad/Secunderabad, Pune,...</td>\n",
       "      <td>Accenture</td>\n",
       "      <td>2-5 Yrs</td>\n",
       "    </tr>\n",
       "    <tr>\n",
       "      <th>9</th>\n",
       "      <td>Content Developer Associate Manager</td>\n",
       "      <td>Kolkata, Mumbai, Hyderabad/Secunderabad, Pune,...</td>\n",
       "      <td>Accenture</td>\n",
       "      <td>5-10 Yrs</td>\n",
       "    </tr>\n",
       "  </tbody>\n",
       "</table>\n",
       "</div>"
      ],
      "text/plain": [
       "                                           Job_title  \\\n",
       "0                              Diversity Drive_Capco   \n",
       "1  Urgent Opening For Angular (10 to14 versions) ...   \n",
       "2                      HCL TECH - Opening For Python   \n",
       "3                    HCL TECH - Opening For Collibra   \n",
       "4                       HCL TECH - Opening For Kafka   \n",
       "5                HCL TECH - Opening For Hyperion DRM   \n",
       "6          HCL TECH - Opening For Hyperion developer   \n",
       "7                             Content Lead - Manager   \n",
       "8                        Sales Operations Specialist   \n",
       "9                Content Developer Associate Manager   \n",
       "\n",
       "                                        Job_location   Company_name  \\\n",
       "0  Hybrid - Pune, Bangalore/Bengaluru, Mumbai (Al...          Capco   \n",
       "1  Kolkata, Visakhapatnam, Hyderabad/Secunderabad...  Tech Mahindra   \n",
       "2  Hybrid - Kolkata, Hyderabad/Secunderabad, Pune...        HCLTech   \n",
       "3  Hybrid - Kolkata, Hyderabad/Secunderabad, Pune...        HCLTech   \n",
       "4  Hybrid - Kolkata, Hyderabad/Secunderabad, Pune...        HCLTech   \n",
       "5  Hybrid - Kolkata, Hyderabad/Secunderabad, Pune...        HCLTech   \n",
       "6  Hybrid - Kolkata, Hyderabad/Secunderabad, Pune...        HCLTech   \n",
       "7  Kolkata, Mumbai, Hyderabad/Secunderabad, Pune,...      Accenture   \n",
       "8  Kolkata, Mumbai, Hyderabad/Secunderabad, Pune,...      Accenture   \n",
       "9  Kolkata, Mumbai, Hyderabad/Secunderabad, Pune,...      Accenture   \n",
       "\n",
       "  Experience_required  \n",
       "0             0-0 Yrs  \n",
       "1             3-7 Yrs  \n",
       "2             5-9 Yrs  \n",
       "3            7-10 Yrs  \n",
       "4             5-9 Yrs  \n",
       "5            5-10 Yrs  \n",
       "6            5-10 Yrs  \n",
       "7            8-13 Yrs  \n",
       "8             2-5 Yrs  \n",
       "9            5-10 Yrs  "
      ]
     },
     "execution_count": 36,
     "metadata": {},
     "output_type": "execute_result"
    }
   ],
   "source": [
    "df=pd.DataFrame({'Job_title':job_title,'Job_location':job_location,'Company_name':Company_name,'Experience_required':Experience_required})\n",
    "df"
   ]
  },
  {
   "cell_type": "markdown",
   "id": "6650ac45",
   "metadata": {},
   "source": [
    "Solution 4"
   ]
  },
  {
   "cell_type": "code",
   "execution_count": 37,
   "id": "731e0086",
   "metadata": {},
   "outputs": [],
   "source": [
    "#import all the required libraries\n",
    "import selenium\n",
    "import pandas as pd\n",
    "from selenium import webdriver\n",
    "import warnings\n",
    "warnings.filterwarnings('ignore')\n",
    "from selenium.webdriver.common.by import By\n",
    "import time"
   ]
  },
  {
   "cell_type": "code",
   "execution_count": 38,
   "id": "d23b1cbf",
   "metadata": {},
   "outputs": [],
   "source": [
    "#Now we will download the webdriver for the web browser.steps for download are-\n",
    "#1.click the version of your browser \n",
    "#2.Go to the link https://chromedriver.chromium.org/downloads\n",
    "#3.Download the webdriver for your version of youe browser"
   ]
  },
  {
   "cell_type": "code",
   "execution_count": 39,
   "id": "01db2e79",
   "metadata": {},
   "outputs": [],
   "source": [
    "#first connect to the driver\n",
    "driver=webdriver.Chrome(r\"C:\\Users\\palsj\\Downloads\\chromedriver.exe\")"
   ]
  },
  {
   "cell_type": "code",
   "execution_count": 40,
   "id": "3370f39a",
   "metadata": {},
   "outputs": [],
   "source": [
    "#opening the flipkart page on automated chorme browser\n",
    "driver.get(\"https://www.flipkart.com/\")"
   ]
  },
  {
   "cell_type": "code",
   "execution_count": 41,
   "id": "a4383cf7",
   "metadata": {},
   "outputs": [],
   "source": [
    "#Enter “sunglasses” in the search field where “search for products, brands and more” is written and click the search icon\n",
    "Product=driver.find_element(By.XPATH,\"/html/body/div[1]/div/div[1]/div[1]/div[2]/div[2]/form/div/div/input\")\n",
    "Product.send_keys(\"sunglasses\")"
   ]
  },
  {
   "cell_type": "code",
   "execution_count": 42,
   "id": "799f2c70",
   "metadata": {},
   "outputs": [],
   "source": [
    "Search=driver.find_element(By.CLASS_NAME,\"_34RNph\")\n",
    "Search.click()"
   ]
  },
  {
   "cell_type": "code",
   "execution_count": 43,
   "id": "d307cdc5",
   "metadata": {},
   "outputs": [],
   "source": [
    "Brand_tags=[]"
   ]
  },
  {
   "cell_type": "code",
   "execution_count": 44,
   "id": "2513534f",
   "metadata": {},
   "outputs": [],
   "source": [
    "start=0\n",
    "end=3\n",
    "for page in range(start,end):\n",
    "    tags= driver.find_elements(By.XPATH,\"//div[@class='_2WkVRV']\")\n",
    "    for i in tags:\n",
    "        Brand_tags.append(i.text)\n",
    "    next_button=driver.find_element(By.XPATH,\"//a[@class='_1LKTO3']\")\n",
    "    next_button.click()\n",
    "    time.sleep(3)"
   ]
  },
  {
   "cell_type": "code",
   "execution_count": 45,
   "id": "ee88ad21",
   "metadata": {},
   "outputs": [
    {
     "name": "stdout",
     "output_type": "stream",
     "text": [
      "120\n"
     ]
    }
   ],
   "source": [
    "print(len(Brand_tags))"
   ]
  },
  {
   "cell_type": "code",
   "execution_count": 46,
   "id": "fa29e72b",
   "metadata": {},
   "outputs": [],
   "source": [
    "Product_Description=[]"
   ]
  },
  {
   "cell_type": "code",
   "execution_count": 47,
   "id": "30d61c5e",
   "metadata": {},
   "outputs": [],
   "source": [
    "start=0\n",
    "end=3\n",
    "for page in range(start,end):\n",
    "    tags= driver.find_elements(By.XPATH,\"//a[@class='IRpwTa']\")\n",
    "    for i in tags:\n",
    "        Product_Description.append(i.text)\n",
    "    next_button=driver.find_element(By.XPATH,\"//a[@class='_1LKTO3']\")\n",
    "    next_button.click()\n",
    "    time.sleep(3)"
   ]
  },
  {
   "cell_type": "code",
   "execution_count": 48,
   "id": "b270a9de",
   "metadata": {},
   "outputs": [
    {
     "name": "stdout",
     "output_type": "stream",
     "text": [
      "119\n"
     ]
    }
   ],
   "source": [
    "print(len(Product_Description))"
   ]
  },
  {
   "cell_type": "code",
   "execution_count": 49,
   "id": "5d9a8d22",
   "metadata": {},
   "outputs": [],
   "source": [
    "Price_tags=[]"
   ]
  },
  {
   "cell_type": "code",
   "execution_count": 50,
   "id": "951ae88e",
   "metadata": {},
   "outputs": [],
   "source": [
    "start=0\n",
    "end=3\n",
    "for page in range(start,end):\n",
    "    tags= driver.find_elements(By.XPATH,\"//div[@class='_30jeq3']\")\n",
    "    for i in tags:\n",
    "        Price_tags.append(i.text)\n",
    "    next_button=driver.find_element(By.XPATH,\"//a[@class='_1LKTO3']\")\n",
    "    next_button.click()\n",
    "    time.sleep(3)"
   ]
  },
  {
   "cell_type": "code",
   "execution_count": 51,
   "id": "b06362af",
   "metadata": {},
   "outputs": [
    {
     "name": "stdout",
     "output_type": "stream",
     "text": [
      "120\n"
     ]
    }
   ],
   "source": [
    "print(len(Price_tags))"
   ]
  },
  {
   "cell_type": "code",
   "execution_count": 52,
   "id": "713cd86c",
   "metadata": {},
   "outputs": [
    {
     "name": "stdout",
     "output_type": "stream",
     "text": [
      "120 119 120\n"
     ]
    }
   ],
   "source": [
    "print(len(Brand_tags),len(Product_Description),len(Price_tags))"
   ]
  },
  {
   "cell_type": "markdown",
   "id": "f9db8e7b",
   "metadata": {},
   "source": [
    "Creating a dataframe from the above data"
   ]
  },
  {
   "cell_type": "code",
   "execution_count": 53,
   "id": "1e870e86",
   "metadata": {},
   "outputs": [
    {
     "data": {
      "text/html": [
       "<div>\n",
       "<style scoped>\n",
       "    .dataframe tbody tr th:only-of-type {\n",
       "        vertical-align: middle;\n",
       "    }\n",
       "\n",
       "    .dataframe tbody tr th {\n",
       "        vertical-align: top;\n",
       "    }\n",
       "\n",
       "    .dataframe thead th {\n",
       "        text-align: right;\n",
       "    }\n",
       "</style>\n",
       "<table border=\"1\" class=\"dataframe\">\n",
       "  <thead>\n",
       "    <tr style=\"text-align: right;\">\n",
       "      <th></th>\n",
       "      <th>Brand_tags</th>\n",
       "      <th>Product_Description</th>\n",
       "      <th>Price_tags</th>\n",
       "    </tr>\n",
       "  </thead>\n",
       "  <tbody>\n",
       "    <tr>\n",
       "      <th>0</th>\n",
       "      <td>VINCENT CHASE</td>\n",
       "      <td>UV Protection, Mirrored Spectacle Sunglasses (...</td>\n",
       "      <td>₹849</td>\n",
       "    </tr>\n",
       "    <tr>\n",
       "      <th>1</th>\n",
       "      <td>VINCENT CHASE</td>\n",
       "      <td>by Lenskart Polarized, UV Protection Round Sun...</td>\n",
       "      <td>₹599</td>\n",
       "    </tr>\n",
       "    <tr>\n",
       "      <th>2</th>\n",
       "      <td>Fastrack</td>\n",
       "      <td>UV Protection Rectangular Sunglasses (56)</td>\n",
       "      <td>₹599</td>\n",
       "    </tr>\n",
       "    <tr>\n",
       "      <th>3</th>\n",
       "      <td>Elligator</td>\n",
       "      <td>Mirrored, Night Vision, UV Protection, Riding ...</td>\n",
       "      <td>₹149</td>\n",
       "    </tr>\n",
       "    <tr>\n",
       "      <th>4</th>\n",
       "      <td>SRPM</td>\n",
       "      <td>UV Protection Wayfarer Sunglasses (Free Size)</td>\n",
       "      <td>₹149</td>\n",
       "    </tr>\n",
       "    <tr>\n",
       "      <th>...</th>\n",
       "      <td>...</td>\n",
       "      <td>...</td>\n",
       "      <td>...</td>\n",
       "    </tr>\n",
       "    <tr>\n",
       "      <th>95</th>\n",
       "      <td>Fastrack</td>\n",
       "      <td>Polarized, UV Protection Wayfarer Sunglasses (...</td>\n",
       "      <td>₹479</td>\n",
       "    </tr>\n",
       "    <tr>\n",
       "      <th>96</th>\n",
       "      <td>VINCENT CHASE</td>\n",
       "      <td>Mirrored, Riding Glasses, UV Protection Sports...</td>\n",
       "      <td>₹616</td>\n",
       "    </tr>\n",
       "    <tr>\n",
       "      <th>97</th>\n",
       "      <td>ROZZETTA CRAFT</td>\n",
       "      <td>Riding Glasses, UV Protection, Night Vision Sp...</td>\n",
       "      <td>₹323</td>\n",
       "    </tr>\n",
       "    <tr>\n",
       "      <th>98</th>\n",
       "      <td>SRPM</td>\n",
       "      <td>UV Protection Aviator Sunglasses (Free Size)</td>\n",
       "      <td>₹199</td>\n",
       "    </tr>\n",
       "    <tr>\n",
       "      <th>99</th>\n",
       "      <td>PIRASO</td>\n",
       "      <td>by Lenskart Polarized, UV Protection Retro Squ...</td>\n",
       "      <td>₹209</td>\n",
       "    </tr>\n",
       "  </tbody>\n",
       "</table>\n",
       "<p>100 rows × 3 columns</p>\n",
       "</div>"
      ],
      "text/plain": [
       "        Brand_tags                                Product_Description  \\\n",
       "0    VINCENT CHASE  UV Protection, Mirrored Spectacle Sunglasses (...   \n",
       "1    VINCENT CHASE  by Lenskart Polarized, UV Protection Round Sun...   \n",
       "2         Fastrack          UV Protection Rectangular Sunglasses (56)   \n",
       "3        Elligator  Mirrored, Night Vision, UV Protection, Riding ...   \n",
       "4             SRPM      UV Protection Wayfarer Sunglasses (Free Size)   \n",
       "..             ...                                                ...   \n",
       "95        Fastrack  Polarized, UV Protection Wayfarer Sunglasses (...   \n",
       "96   VINCENT CHASE  Mirrored, Riding Glasses, UV Protection Sports...   \n",
       "97  ROZZETTA CRAFT  Riding Glasses, UV Protection, Night Vision Sp...   \n",
       "98            SRPM       UV Protection Aviator Sunglasses (Free Size)   \n",
       "99          PIRASO  by Lenskart Polarized, UV Protection Retro Squ...   \n",
       "\n",
       "   Price_tags  \n",
       "0        ₹849  \n",
       "1        ₹599  \n",
       "2        ₹599  \n",
       "3        ₹149  \n",
       "4        ₹149  \n",
       "..        ...  \n",
       "95       ₹479  \n",
       "96       ₹616  \n",
       "97       ₹323  \n",
       "98       ₹199  \n",
       "99       ₹209  \n",
       "\n",
       "[100 rows x 3 columns]"
      ]
     },
     "execution_count": 53,
     "metadata": {},
     "output_type": "execute_result"
    }
   ],
   "source": [
    "df=pd.DataFrame({'Brand_tags':Brand_tags[0:100],'Product_Description':Product_Description[0:100],'Price_tags':Price_tags[0:100]})\n",
    "df"
   ]
  },
  {
   "cell_type": "markdown",
   "id": "3b1ec5df",
   "metadata": {},
   "source": [
    "Solution 5"
   ]
  },
  {
   "cell_type": "code",
   "execution_count": 54,
   "id": "ded01ae1",
   "metadata": {},
   "outputs": [],
   "source": [
    "#import all the required libraries\n",
    "import selenium\n",
    "import pandas as pd\n",
    "from selenium import webdriver\n",
    "import warnings\n",
    "warnings.filterwarnings('ignore')\n",
    "from selenium.webdriver.common.by import By\n",
    "import time"
   ]
  },
  {
   "cell_type": "code",
   "execution_count": 55,
   "id": "813312a6",
   "metadata": {},
   "outputs": [],
   "source": [
    "#Now we will download the webdriver for the web browser.steps for download are-\n",
    "#1.click the version of your browser \n",
    "#2.Go to the link https://chromedriver.chromium.org/downloads\n",
    "#3.Download the webdriver for your version of youe browser"
   ]
  },
  {
   "cell_type": "code",
   "execution_count": 56,
   "id": "cdd0580f",
   "metadata": {},
   "outputs": [],
   "source": [
    "#first connect to the driver\n",
    "driver=webdriver.Chrome(r\"C:\\Users\\palsj\\Downloads\\chromedriver.exe\")"
   ]
  },
  {
   "cell_type": "code",
   "execution_count": 57,
   "id": "17335159",
   "metadata": {},
   "outputs": [],
   "source": [
    "#opening the naukari page on automated chorme browser\n",
    "driver.get(\"https://www.flipkart.com/\")"
   ]
  },
  {
   "cell_type": "code",
   "execution_count": 58,
   "id": "77411104",
   "metadata": {},
   "outputs": [],
   "source": [
    "#Enter “sunglasses” in the search field where “search for products, brands and more” is written and click the search icon\n",
    "Product=driver.find_element(By.XPATH,\"/html/body/div[1]/div/div[1]/div[1]/div[2]/div[2]/form/div/div/input\")\n",
    "Product.send_keys(\"iphone 11\")"
   ]
  },
  {
   "cell_type": "code",
   "execution_count": 59,
   "id": "7e5624aa",
   "metadata": {},
   "outputs": [],
   "source": [
    "Search=driver.find_element(By.CLASS_NAME,\"_34RNph\")\n",
    "Search.click()"
   ]
  },
  {
   "cell_type": "code",
   "execution_count": 61,
   "id": "ed7064ca",
   "metadata": {},
   "outputs": [],
   "source": [
    "Search=driver.find_element(By.CLASS_NAME,\"_4rR01T\")\n",
    "Search.click()"
   ]
  },
  {
   "cell_type": "code",
   "execution_count": 62,
   "id": "9de781db",
   "metadata": {},
   "outputs": [],
   "source": [
    "rating_tags=[]"
   ]
  },
  {
   "cell_type": "code",
   "execution_count": 63,
   "id": "d2f7d2d8",
   "metadata": {},
   "outputs": [],
   "source": [
    "rating_tags=driver.find_elements(By.XPATH,'//div[@class=\"_3LWZlK _1BLPMq\"]')\n",
    "for i in rating_tags[0:100]:\n",
    "    Rating=i.text\n",
    "    rating_tags.append(Rating)"
   ]
  },
  {
   "cell_type": "code",
   "execution_count": 64,
   "id": "e2904eb5",
   "metadata": {},
   "outputs": [
    {
     "data": {
      "text/plain": [
       "16"
      ]
     },
     "execution_count": 64,
     "metadata": {},
     "output_type": "execute_result"
    }
   ],
   "source": [
    "len(rating_tags)"
   ]
  },
  {
   "cell_type": "code",
   "execution_count": 65,
   "id": "93638d87",
   "metadata": {},
   "outputs": [],
   "source": [
    "Reviewsummary_tags=[]"
   ]
  },
  {
   "cell_type": "code",
   "execution_count": 67,
   "id": "ed847d1d",
   "metadata": {},
   "outputs": [],
   "source": [
    "Reviewsummary_tags=driver.find_elements(By.XPATH,'//p[@class=\"_2-N8zT\"]')\n",
    "for i in Reviewsummary_tags[0:100]:\n",
    "    Review=i.text\n",
    "    Reviewsummary_tags.append(Review)"
   ]
  },
  {
   "cell_type": "code",
   "execution_count": 68,
   "id": "40fbb101",
   "metadata": {},
   "outputs": [
    {
     "data": {
      "text/plain": [
       "16"
      ]
     },
     "execution_count": 68,
     "metadata": {},
     "output_type": "execute_result"
    }
   ],
   "source": [
    "len(Reviewsummary_tags)"
   ]
  },
  {
   "cell_type": "code",
   "execution_count": 70,
   "id": "b2946d02",
   "metadata": {},
   "outputs": [],
   "source": [
    "FullReviewsummary_tags=[]"
   ]
  },
  {
   "cell_type": "code",
   "execution_count": 71,
   "id": "8476b106",
   "metadata": {},
   "outputs": [],
   "source": [
    "FullReviewsummary_tags=driver.find_elements(By.XPATH,'//p[@class=\"_1H-bmy\"]')\n",
    "for i in FullReviewsummary_tags[0:100]:\n",
    "    FullReview=i.text\n",
    "    FullReviewsummary_tags.append(FullReview)"
   ]
  },
  {
   "cell_type": "code",
   "execution_count": 72,
   "id": "22477fed",
   "metadata": {},
   "outputs": [
    {
     "data": {
      "text/plain": [
       "16"
      ]
     },
     "execution_count": 72,
     "metadata": {},
     "output_type": "execute_result"
    }
   ],
   "source": [
    "len(Reviewsummary_tags)"
   ]
  },
  {
   "cell_type": "markdown",
   "id": "1deadb03",
   "metadata": {},
   "source": [
    "Creating a dataframe from the above data"
   ]
  },
  {
   "cell_type": "code",
   "execution_count": 73,
   "id": "42dce6b2",
   "metadata": {},
   "outputs": [
    {
     "data": {
      "text/html": [
       "<div>\n",
       "<style scoped>\n",
       "    .dataframe tbody tr th:only-of-type {\n",
       "        vertical-align: middle;\n",
       "    }\n",
       "\n",
       "    .dataframe tbody tr th {\n",
       "        vertical-align: top;\n",
       "    }\n",
       "\n",
       "    .dataframe thead th {\n",
       "        text-align: right;\n",
       "    }\n",
       "</style>\n",
       "<table border=\"1\" class=\"dataframe\">\n",
       "  <thead>\n",
       "    <tr style=\"text-align: right;\">\n",
       "      <th></th>\n",
       "      <th>Rating</th>\n",
       "      <th>Reviews</th>\n",
       "      <th>Full_Review</th>\n",
       "    </tr>\n",
       "  </thead>\n",
       "  <tbody>\n",
       "    <tr>\n",
       "      <th>0</th>\n",
       "      <td>&lt;selenium.webdriver.remote.webelement.WebEleme...</td>\n",
       "      <td>&lt;selenium.webdriver.remote.webelement.WebEleme...</td>\n",
       "      <td>&lt;selenium.webdriver.remote.webelement.WebEleme...</td>\n",
       "    </tr>\n",
       "    <tr>\n",
       "      <th>1</th>\n",
       "      <td>&lt;selenium.webdriver.remote.webelement.WebEleme...</td>\n",
       "      <td>&lt;selenium.webdriver.remote.webelement.WebEleme...</td>\n",
       "      <td>&lt;selenium.webdriver.remote.webelement.WebEleme...</td>\n",
       "    </tr>\n",
       "    <tr>\n",
       "      <th>2</th>\n",
       "      <td>&lt;selenium.webdriver.remote.webelement.WebEleme...</td>\n",
       "      <td>&lt;selenium.webdriver.remote.webelement.WebEleme...</td>\n",
       "      <td>&lt;selenium.webdriver.remote.webelement.WebEleme...</td>\n",
       "    </tr>\n",
       "    <tr>\n",
       "      <th>3</th>\n",
       "      <td>&lt;selenium.webdriver.remote.webelement.WebEleme...</td>\n",
       "      <td>&lt;selenium.webdriver.remote.webelement.WebEleme...</td>\n",
       "      <td>&lt;selenium.webdriver.remote.webelement.WebEleme...</td>\n",
       "    </tr>\n",
       "    <tr>\n",
       "      <th>4</th>\n",
       "      <td>&lt;selenium.webdriver.remote.webelement.WebEleme...</td>\n",
       "      <td>&lt;selenium.webdriver.remote.webelement.WebEleme...</td>\n",
       "      <td>&lt;selenium.webdriver.remote.webelement.WebEleme...</td>\n",
       "    </tr>\n",
       "    <tr>\n",
       "      <th>5</th>\n",
       "      <td>&lt;selenium.webdriver.remote.webelement.WebEleme...</td>\n",
       "      <td>&lt;selenium.webdriver.remote.webelement.WebEleme...</td>\n",
       "      <td>&lt;selenium.webdriver.remote.webelement.WebEleme...</td>\n",
       "    </tr>\n",
       "    <tr>\n",
       "      <th>6</th>\n",
       "      <td>&lt;selenium.webdriver.remote.webelement.WebEleme...</td>\n",
       "      <td>&lt;selenium.webdriver.remote.webelement.WebEleme...</td>\n",
       "      <td>&lt;selenium.webdriver.remote.webelement.WebEleme...</td>\n",
       "    </tr>\n",
       "    <tr>\n",
       "      <th>7</th>\n",
       "      <td>&lt;selenium.webdriver.remote.webelement.WebEleme...</td>\n",
       "      <td>&lt;selenium.webdriver.remote.webelement.WebEleme...</td>\n",
       "      <td>&lt;selenium.webdriver.remote.webelement.WebEleme...</td>\n",
       "    </tr>\n",
       "    <tr>\n",
       "      <th>8</th>\n",
       "      <td>5</td>\n",
       "      <td>Perfect product!</td>\n",
       "      <td>Perfect product!</td>\n",
       "    </tr>\n",
       "    <tr>\n",
       "      <th>9</th>\n",
       "      <td>5</td>\n",
       "      <td>Terrific</td>\n",
       "      <td>Terrific</td>\n",
       "    </tr>\n",
       "    <tr>\n",
       "      <th>10</th>\n",
       "      <td>5</td>\n",
       "      <td>Fabulous!</td>\n",
       "      <td>Fabulous!</td>\n",
       "    </tr>\n",
       "    <tr>\n",
       "      <th>11</th>\n",
       "      <td>5</td>\n",
       "      <td>Great product</td>\n",
       "      <td>Great product</td>\n",
       "    </tr>\n",
       "    <tr>\n",
       "      <th>12</th>\n",
       "      <td>5</td>\n",
       "      <td>Simply awesome</td>\n",
       "      <td>Simply awesome</td>\n",
       "    </tr>\n",
       "    <tr>\n",
       "      <th>13</th>\n",
       "      <td>5</td>\n",
       "      <td>Just wow!</td>\n",
       "      <td>Just wow!</td>\n",
       "    </tr>\n",
       "    <tr>\n",
       "      <th>14</th>\n",
       "      <td>4</td>\n",
       "      <td>Good quality product</td>\n",
       "      <td>Good quality product</td>\n",
       "    </tr>\n",
       "    <tr>\n",
       "      <th>15</th>\n",
       "      <td>5</td>\n",
       "      <td>Perfect product!</td>\n",
       "      <td>Perfect product!</td>\n",
       "    </tr>\n",
       "  </tbody>\n",
       "</table>\n",
       "</div>"
      ],
      "text/plain": [
       "                                               Rating  \\\n",
       "0   <selenium.webdriver.remote.webelement.WebEleme...   \n",
       "1   <selenium.webdriver.remote.webelement.WebEleme...   \n",
       "2   <selenium.webdriver.remote.webelement.WebEleme...   \n",
       "3   <selenium.webdriver.remote.webelement.WebEleme...   \n",
       "4   <selenium.webdriver.remote.webelement.WebEleme...   \n",
       "5   <selenium.webdriver.remote.webelement.WebEleme...   \n",
       "6   <selenium.webdriver.remote.webelement.WebEleme...   \n",
       "7   <selenium.webdriver.remote.webelement.WebEleme...   \n",
       "8                                                   5   \n",
       "9                                                   5   \n",
       "10                                                  5   \n",
       "11                                                  5   \n",
       "12                                                  5   \n",
       "13                                                  5   \n",
       "14                                                  4   \n",
       "15                                                  5   \n",
       "\n",
       "                                              Reviews  \\\n",
       "0   <selenium.webdriver.remote.webelement.WebEleme...   \n",
       "1   <selenium.webdriver.remote.webelement.WebEleme...   \n",
       "2   <selenium.webdriver.remote.webelement.WebEleme...   \n",
       "3   <selenium.webdriver.remote.webelement.WebEleme...   \n",
       "4   <selenium.webdriver.remote.webelement.WebEleme...   \n",
       "5   <selenium.webdriver.remote.webelement.WebEleme...   \n",
       "6   <selenium.webdriver.remote.webelement.WebEleme...   \n",
       "7   <selenium.webdriver.remote.webelement.WebEleme...   \n",
       "8                                    Perfect product!   \n",
       "9                                            Terrific   \n",
       "10                                          Fabulous!   \n",
       "11                                      Great product   \n",
       "12                                     Simply awesome   \n",
       "13                                          Just wow!   \n",
       "14                               Good quality product   \n",
       "15                                   Perfect product!   \n",
       "\n",
       "                                          Full_Review  \n",
       "0   <selenium.webdriver.remote.webelement.WebEleme...  \n",
       "1   <selenium.webdriver.remote.webelement.WebEleme...  \n",
       "2   <selenium.webdriver.remote.webelement.WebEleme...  \n",
       "3   <selenium.webdriver.remote.webelement.WebEleme...  \n",
       "4   <selenium.webdriver.remote.webelement.WebEleme...  \n",
       "5   <selenium.webdriver.remote.webelement.WebEleme...  \n",
       "6   <selenium.webdriver.remote.webelement.WebEleme...  \n",
       "7   <selenium.webdriver.remote.webelement.WebEleme...  \n",
       "8                                    Perfect product!  \n",
       "9                                            Terrific  \n",
       "10                                          Fabulous!  \n",
       "11                                      Great product  \n",
       "12                                     Simply awesome  \n",
       "13                                          Just wow!  \n",
       "14                               Good quality product  \n",
       "15                                   Perfect product!  "
      ]
     },
     "execution_count": 73,
     "metadata": {},
     "output_type": "execute_result"
    }
   ],
   "source": [
    "df=pd.DataFrame({'Rating':rating_tags,'Reviews':Reviewsummary_tags,'Full_Review':Reviewsummary_tags})\n",
    "df"
   ]
  },
  {
   "cell_type": "markdown",
   "id": "925a9a49",
   "metadata": {},
   "source": [
    "Solution 6"
   ]
  },
  {
   "cell_type": "code",
   "execution_count": 74,
   "id": "e728fbb1",
   "metadata": {},
   "outputs": [],
   "source": [
    "#import all the required libraries\n",
    "import selenium\n",
    "import pandas as pd\n",
    "from selenium import webdriver\n",
    "import warnings\n",
    "warnings.filterwarnings('ignore')\n",
    "from selenium.webdriver.common.by import By\n",
    "import time"
   ]
  },
  {
   "cell_type": "code",
   "execution_count": 75,
   "id": "b71e8b67",
   "metadata": {},
   "outputs": [],
   "source": [
    "#Now we will download the webdriver for the web browser.steps for download are-\n",
    "#1.click the version of your browser \n",
    "#2.Go to the link https://chromedriver.chromium.org/downloads\n",
    "#3.Download the webdriver for your version of youe browser"
   ]
  },
  {
   "cell_type": "code",
   "execution_count": 76,
   "id": "b3887c7f",
   "metadata": {},
   "outputs": [],
   "source": [
    "#first connect to the driver\n",
    "driver=webdriver.Chrome(r\"C:\\Users\\palsj\\Downloads\\chromedriver.exe\")"
   ]
  },
  {
   "cell_type": "code",
   "execution_count": 77,
   "id": "7da64917",
   "metadata": {},
   "outputs": [],
   "source": [
    "#opening the flipkart page on automated chorme browser\n",
    "driver.get(\"https://www.flipkart.com/\")"
   ]
  },
  {
   "cell_type": "code",
   "execution_count": 78,
   "id": "258294e8",
   "metadata": {},
   "outputs": [],
   "source": [
    "#Enter \"sneakers\" in the search field where “search for products, brands and more” is written and click the search icon\n",
    "Product=driver.find_element(By.XPATH,\"/html/body/div[1]/div/div[1]/div[1]/div[2]/div[2]/form/div/div/input\")\n",
    "Product.send_keys(\"sneakers\")"
   ]
  },
  {
   "cell_type": "code",
   "execution_count": 79,
   "id": "910e56e3",
   "metadata": {},
   "outputs": [],
   "source": [
    "Search=driver.find_element(By.CLASS_NAME,\"_34RNph\")\n",
    "Search.click()"
   ]
  },
  {
   "cell_type": "code",
   "execution_count": 80,
   "id": "9cd1dc02",
   "metadata": {},
   "outputs": [],
   "source": [
    "brand_tags=[]"
   ]
  },
  {
   "cell_type": "code",
   "execution_count": 81,
   "id": "9a3fe1f6",
   "metadata": {},
   "outputs": [],
   "source": [
    "start=0\n",
    "end=3\n",
    "for page in range(start,end):\n",
    "    tags= driver.find_elements(By.XPATH,\"//div[@class='_2WkVRV']\")\n",
    "    for i in tags:\n",
    "        brand_tags.append(i.text)\n",
    "    next_button=driver.find_element(By.XPATH,\"//a[@class='_1LKTO3']\")\n",
    "    next_button.click()\n",
    "    time.sleep(3)"
   ]
  },
  {
   "cell_type": "code",
   "execution_count": 82,
   "id": "ece70ce9",
   "metadata": {},
   "outputs": [
    {
     "data": {
      "text/plain": [
       "120"
      ]
     },
     "execution_count": 82,
     "metadata": {},
     "output_type": "execute_result"
    }
   ],
   "source": [
    "len(brand_tags)"
   ]
  },
  {
   "cell_type": "code",
   "execution_count": 83,
   "id": "3a46e77b",
   "metadata": {},
   "outputs": [],
   "source": [
    "Product_tags=[]"
   ]
  },
  {
   "cell_type": "code",
   "execution_count": 84,
   "id": "85e5b6ab",
   "metadata": {},
   "outputs": [],
   "source": [
    "start=0\n",
    "end=3\n",
    "for page in range(start,end):\n",
    "    tags= driver.find_elements(By.XPATH,\"//a[@class='IRpwTa']\")\n",
    "    for i in tags:\n",
    "        Product_tags.append(i.text)\n",
    "    next_button=driver.find_element(By.XPATH,\"//a[@class='_1LKTO3']\")\n",
    "    next_button.click()\n",
    "    time.sleep(3)"
   ]
  },
  {
   "cell_type": "code",
   "execution_count": 85,
   "id": "ac3d3a92",
   "metadata": {},
   "outputs": [
    {
     "data": {
      "text/plain": [
       "116"
      ]
     },
     "execution_count": 85,
     "metadata": {},
     "output_type": "execute_result"
    }
   ],
   "source": [
    "len(Product_tags)"
   ]
  },
  {
   "cell_type": "code",
   "execution_count": 86,
   "id": "aa3b9aba",
   "metadata": {},
   "outputs": [],
   "source": [
    "Price_tags=[]"
   ]
  },
  {
   "cell_type": "code",
   "execution_count": 87,
   "id": "9b9dd4d5",
   "metadata": {},
   "outputs": [],
   "source": [
    "start=0\n",
    "end=3\n",
    "for page in range(start,end):\n",
    "    tags= driver.find_elements(By.XPATH,\"//div[@class='_30jeq3']\")\n",
    "    for i in tags:\n",
    "        Price_tags.append(i.text)\n",
    "    next_button=driver.find_element(By.XPATH,\"//a[@class='_1LKTO3']\")\n",
    "    next_button.click()\n",
    "    time.sleep(3)"
   ]
  },
  {
   "cell_type": "code",
   "execution_count": 88,
   "id": "ec8b4062",
   "metadata": {},
   "outputs": [
    {
     "data": {
      "text/plain": [
       "120"
      ]
     },
     "execution_count": 88,
     "metadata": {},
     "output_type": "execute_result"
    }
   ],
   "source": [
    "len(Price_tags)"
   ]
  },
  {
   "cell_type": "code",
   "execution_count": 89,
   "id": "f4fe91c8",
   "metadata": {},
   "outputs": [],
   "source": [
    "off_tags=[]"
   ]
  },
  {
   "cell_type": "code",
   "execution_count": 90,
   "id": "5257e9b6",
   "metadata": {},
   "outputs": [],
   "source": [
    "start=0\n",
    "end=3\n",
    "for page in range(start,end):\n",
    "    tags= driver.find_elements(By.XPATH,\"//div[@class='_3Ay6Sb']\")\n",
    "    for i in tags:\n",
    "        off_tags.append(i.text)\n",
    "    next_button=driver.find_element(By.XPATH,\"//a[@class='_1LKTO3']\")\n",
    "    next_button.click()\n",
    "    time.sleep(3)"
   ]
  },
  {
   "cell_type": "code",
   "execution_count": 91,
   "id": "b951399c",
   "metadata": {},
   "outputs": [
    {
     "data": {
      "text/plain": [
       "120"
      ]
     },
     "execution_count": 91,
     "metadata": {},
     "output_type": "execute_result"
    }
   ],
   "source": [
    "len(off_tags)"
   ]
  },
  {
   "cell_type": "code",
   "execution_count": 92,
   "id": "3ce434c0",
   "metadata": {},
   "outputs": [
    {
     "name": "stdout",
     "output_type": "stream",
     "text": [
      "120 ['Sneakers For Men', 'Sneakers For Men', 'Sneakers For Women', 'Mesh Sneakers For Men', 'Sneakers For Men', 'Combo Pack Of 2 Latest Stylish Casual Shoes for Men Lac...', 'Sneakers Dancing Shoes/Street Dancing Shoe For Men/R.T....', 'Combo Pack of 5 Casual Sneakers Sneakers For Men', '2 Combo Sneaker Shoes Sneakers For Men', 'CR-1 Sneakers For Men', 'Jada Night Out Sneakers For Women', 'Men’s Premium Style High Top Platform Fashion Sneakers|...', '2 Combo Sneaker Shoes Sneakers For Men', 'Sneakers Shoes For Men Black Sneakers For Men', 'Casual Sneakers Shoes For Men Sneakers For Men', 'Sneakers For Men', 'Unique & Perfect Combo Pack of 02 Pair Casual Sneaker C...', 'Sneakers For Men', 'Lightweight Pack Of 1 Trendy Sneakers Sneakers Sneakers...', 'Trinity Sneakers For Men', 'CAMP CLINT Sneakers For Men', 'Jasper-02 Black Casuals,Walking,Training,Running,Stylis...', 'Sneakers For Women', 'Sneakers For Men', 'Premium Casual Shoes for Men Sneakers For Men', 'Sneakers For Men', 'Synthetic Leather Sneakers For Men', 'Men’s Premium Style High Top Platform Fashion Sneakers|...', 'Sneakers For Men', 'Sneakers For Men', 'Men High Top Fashion Sneakers/sports/Ankle casual Shoes...', 'BMW MMS Electron E Sneakers For Men', 'Casuals, Canvas, Partywear Sneakers For Men', 'Stylish and Trendy New Design Lightweight,Casual shoes ...', 'Kzaara Sneakers Casual Canvas shoes | Branded Stylish O...', 'Sneakers For Men', 'Sneakers For Men', '373 Sneakers For Men', 'New Branded Casual Sneakers Sneakers For Men', 'Sneakers For Men', 'GEL-1130 Sneakers For Men', 'Trenddy Fashion Sporty Running Shoes Sneakers For Men', 'Casual Sneakers Green Shoes For Men And Boys Sneakers F...', 'Sneakers For Men', 'Modern Trendy Sneakers Shoes Sneakers For Men', 'Sneakers For Men', 'Lightweight Pack Of 1 Trendy Sneakers Sneakers For Men', 'Mesh | Ultralightweight | Comfortable | Breathable Walk...', 'Stylish Comfortable Lightweight, Breathable Casual Shoe...', 'Sneakers For Men', 'Sneakers For Men', 'Sneakers For Men', 'CR-1 Sneakers For Men', 'Pint Sneakers For Men', 'Stylish Comfortable Lightweight, Breathable Casual Shoe...', 'Casual Sneakers For Men', 'Sneakers For Women', 'Sneakers For Women', 'Sneakers For Men', 'Breathable, Walking, Running, Casual, Gym Shoes Sneaker...', 'Sneakers For Men', 'Lattest Sneakers Shoe Sneakers For Men', 'White Sneaker For Men Sneakers For Men', 'Achiever-11 White Casuals,Loafers,Walking, Sneakers For...', 'Achiever-12 White Sneakers,Loafers,Casuals,Synthetic Sn...', '350 smart grey lace-ups casual for men Sneakers For Men', 'Sneakers For Women', 'Sneakers For Men', 'Sneakers For Men', 'Exclusive Sneaker Shoes Sneakers For Men', '2 Combo Sneaker Shoes Sneakers For Men', 'Combo Pack Of 4 Casual Shoes Loafer Shoes Sneakers For ...', 'Pacer Fire Sneakers For Men', 'Zebx Victory-5 Sneakers For Men Sneakers For Men', 'CR-1 Sneakers For Men', 'Sneakers For Men', 'Sneakers For Men', 'Sneakers For Men', 'Sneakers For Women', 'Mesh Sneakers For Men', 'Sneakers For Men', 'Combo Pack Of 2 Latest Stylish Casual Shoes for Men Lac...', 'Sneakers For Men', 'Sneakers Dancing Shoes/Street Dancing Shoe For Men/R.T....', '2 Combo Sneaker Shoes Sneakers For Men', 'CR-1 Sneakers For Men', 'Women Sneaker Casual Shoes Sneakers For Women', 'Women Sneaker Casual Shoes Sneakers For Women', '2 Combo Sneaker Shoes Sneakers For Men', 'Sneakers Shoes For Men Black Sneakers For Men', 'Casual Sneakers Shoes For Men Sneakers For Men', 'Sneakers For Men', 'Women Sneaker Casual Shoes Sneakers For Women', 'Stylish Comfortable Lightweight, Breathable Casual Shoe...', 'Lightweight Pack Of 1 Trendy Sneakers Sneakers Sneakers...', 'Trinity Sneakers For Men', 'Combo Pack of 5 Casual Sneakers Sneakers For Men', 'Jada Night Out Sneakers For Women', 'Sneakers For Women', 'Sneakers For Men', 'Premium Casual Shoes for Men Sneakers For Men', 'Sneakers For Men', 'Men’s Premium Style High Top Platform Fashion Sneakers|...', 'Unique & Perfect Combo Pack of 02 Pair Casual Sneaker C...', 'Sneakers For Men', 'Sneakers For Men', 'Sneakers For Men', 'CAMP CLINT Sneakers For Men', 'Casuals, Canvas, Partywear Sneakers For Men', 'Stylish and Trendy New Design Lightweight,Casual shoes ...', 'Kzaara Sneakers Casual Canvas shoes | Branded Stylish O...', 'Sneakers For Men', 'Jasper-02 Black Casuals,Walking,Training,Running,Stylis...', 'MAPF1 R-Cat Machina Sneakers For Men', 'Sneakers For Men', '373 Sneakers For Men'] ['₹494', '₹199', '₹4,799', '₹249', '₹349', '₹299', '₹229', '₹549', '₹179', '₹299', '₹499', '₹299', '₹299', '₹349', '₹299', '₹229', '₹2,096', '₹471', '₹299', '₹199', '₹379', '₹849', '₹298', '₹229', '₹229', '₹339', '₹2,579', '₹599', '₹299', '₹179', '₹664', '₹539', '₹362', '₹298', '₹499', '₹499', '₹299', '₹299', '₹229', '₹199', '₹359', '₹399', '₹295', '₹299', '₹359', '₹499', '₹565', '₹399', '₹499', '₹229', '₹969', '₹2,399', '₹499', '₹169', '₹299', '₹1,249', '₹565', '₹699', '₹179', '₹1,853', '₹299', '₹1,979', '₹299', '₹299', '₹299', '₹557', '₹842', '₹499', '₹299', '₹389', '₹565', '₹570', '₹499', '₹249', '₹199', '₹298', '₹5,949', '₹499', '₹398', '₹3,010', '₹494', '₹199', '₹4,799', '₹249', '₹349', '₹299', '₹229', '₹549', '₹179', '₹299', '₹499', '₹2,321', '₹299', '₹349', '₹299', '₹229', '₹299', '₹1,799', '₹299', '₹199', '₹471', '₹379', '₹298', '₹229', '₹229', '₹339', '₹664', '₹2,695', '₹299', '₹179', '₹499', '₹299', '₹362', '₹298', '₹499', '₹499', '₹1,811', '₹481', '₹229', '₹199'] ['64% off', '60% off', '70% off', '70% off', '82% off', '80% off', '62% off', '60% off', '80% off', '61% off', '61% off', '60% off', '80% off', '66% off', '70% off', '75% off', '56% off', '61% off', '70% off', '47% off', '62% off', '10% off', '70% off', '70% off', '70% off', '44% off', '43% off', '75% off', '70% off', '61% off', '56% off', '71% off', '50% off', '75% off', '80% off', '70% off', '15% off', '77% off', '60% off', '56% off', '67% off', '90% off', '40% off', '75% off', '65% off', '80% off', '82% off', '45% off', '70% off', '85% off', '68% off', '46% off', '70% off', '65% off', '70% off', '61% off', '40% off', '10% off', '80% off', '60% off', '52% off', '62% off', '70% off', '77% off', '82% off', '58% off', '66% off', '50% off', '85% off', '64% off', '50% off', '70% off', '72% off', '77% off', '80% off', '85% off', '59% off', '80% off', '61% off', '80% off', '64% off', '60% off', '70% off', '70% off', '82% off', '80% off', '62% off', '60% off', '80% off', '61% off', '61% off', '60% off', '80% off', '66% off', '70% off', '75% off', '56% off', '61% off', '70% off', '47% off', '62% off', '10% off', '70% off', '70% off', '70% off', '44% off', '43% off', '75% off', '70% off', '61% off', '56% off', '71% off', '50% off', '75% off', '80% off', '70% off', '15% off', '77% off', '60% off', '56% off']\n"
     ]
    }
   ],
   "source": [
    "print(len(brand_tags),(Product_tags),(Price_tags),(off_tags))"
   ]
  },
  {
   "cell_type": "markdown",
   "id": "e03a7227",
   "metadata": {},
   "source": [
    "Creating a dataframe from the above data"
   ]
  },
  {
   "cell_type": "code",
   "execution_count": 93,
   "id": "60b21eea",
   "metadata": {},
   "outputs": [
    {
     "data": {
      "text/html": [
       "<div>\n",
       "<style scoped>\n",
       "    .dataframe tbody tr th:only-of-type {\n",
       "        vertical-align: middle;\n",
       "    }\n",
       "\n",
       "    .dataframe tbody tr th {\n",
       "        vertical-align: top;\n",
       "    }\n",
       "\n",
       "    .dataframe thead th {\n",
       "        text-align: right;\n",
       "    }\n",
       "</style>\n",
       "<table border=\"1\" class=\"dataframe\">\n",
       "  <thead>\n",
       "    <tr style=\"text-align: right;\">\n",
       "      <th></th>\n",
       "      <th>Brand</th>\n",
       "      <th>Product</th>\n",
       "      <th>Price</th>\n",
       "      <th>Discount</th>\n",
       "    </tr>\n",
       "  </thead>\n",
       "  <tbody>\n",
       "    <tr>\n",
       "      <th>0</th>\n",
       "      <td>aadi</td>\n",
       "      <td>Sneakers For Men</td>\n",
       "      <td>₹494</td>\n",
       "      <td>64% off</td>\n",
       "    </tr>\n",
       "    <tr>\n",
       "      <th>1</th>\n",
       "      <td>K- FOOTLANCE</td>\n",
       "      <td>Sneakers For Men</td>\n",
       "      <td>₹199</td>\n",
       "      <td>60% off</td>\n",
       "    </tr>\n",
       "    <tr>\n",
       "      <th>2</th>\n",
       "      <td>SFR</td>\n",
       "      <td>Sneakers For Women</td>\n",
       "      <td>₹4,799</td>\n",
       "      <td>70% off</td>\n",
       "    </tr>\n",
       "    <tr>\n",
       "      <th>3</th>\n",
       "      <td>Robbie jones</td>\n",
       "      <td>Mesh Sneakers For Men</td>\n",
       "      <td>₹249</td>\n",
       "      <td>70% off</td>\n",
       "    </tr>\n",
       "    <tr>\n",
       "      <th>4</th>\n",
       "      <td>Deals4you</td>\n",
       "      <td>Sneakers For Men</td>\n",
       "      <td>₹349</td>\n",
       "      <td>82% off</td>\n",
       "    </tr>\n",
       "    <tr>\n",
       "      <th>...</th>\n",
       "      <td>...</td>\n",
       "      <td>...</td>\n",
       "      <td>...</td>\n",
       "      <td>...</td>\n",
       "    </tr>\n",
       "    <tr>\n",
       "      <th>95</th>\n",
       "      <td>HOTSTYLE</td>\n",
       "      <td>Trinity Sneakers For Men</td>\n",
       "      <td>₹229</td>\n",
       "      <td>75% off</td>\n",
       "    </tr>\n",
       "    <tr>\n",
       "      <th>96</th>\n",
       "      <td>BIRDE</td>\n",
       "      <td>Combo Pack of 5 Casual Sneakers Sneakers For Men</td>\n",
       "      <td>₹299</td>\n",
       "      <td>56% off</td>\n",
       "    </tr>\n",
       "    <tr>\n",
       "      <th>97</th>\n",
       "      <td>Chevit</td>\n",
       "      <td>Jada Night Out Sneakers For Women</td>\n",
       "      <td>₹1,799</td>\n",
       "      <td>61% off</td>\n",
       "    </tr>\n",
       "    <tr>\n",
       "      <th>98</th>\n",
       "      <td>TR</td>\n",
       "      <td>Sneakers For Women</td>\n",
       "      <td>₹299</td>\n",
       "      <td>70% off</td>\n",
       "    </tr>\n",
       "    <tr>\n",
       "      <th>99</th>\n",
       "      <td>BIRDE</td>\n",
       "      <td>Sneakers For Men</td>\n",
       "      <td>₹199</td>\n",
       "      <td>47% off</td>\n",
       "    </tr>\n",
       "  </tbody>\n",
       "</table>\n",
       "<p>100 rows × 4 columns</p>\n",
       "</div>"
      ],
      "text/plain": [
       "           Brand                                           Product   Price  \\\n",
       "0           aadi                                  Sneakers For Men    ₹494   \n",
       "1   K- FOOTLANCE                                  Sneakers For Men    ₹199   \n",
       "2            SFR                                Sneakers For Women  ₹4,799   \n",
       "3   Robbie jones                             Mesh Sneakers For Men    ₹249   \n",
       "4      Deals4you                                  Sneakers For Men    ₹349   \n",
       "..           ...                                               ...     ...   \n",
       "95      HOTSTYLE                          Trinity Sneakers For Men    ₹229   \n",
       "96         BIRDE  Combo Pack of 5 Casual Sneakers Sneakers For Men    ₹299   \n",
       "97        Chevit                 Jada Night Out Sneakers For Women  ₹1,799   \n",
       "98            TR                                Sneakers For Women    ₹299   \n",
       "99         BIRDE                                  Sneakers For Men    ₹199   \n",
       "\n",
       "   Discount  \n",
       "0   64% off  \n",
       "1   60% off  \n",
       "2   70% off  \n",
       "3   70% off  \n",
       "4   82% off  \n",
       "..      ...  \n",
       "95  75% off  \n",
       "96  56% off  \n",
       "97  61% off  \n",
       "98  70% off  \n",
       "99  47% off  \n",
       "\n",
       "[100 rows x 4 columns]"
      ]
     },
     "execution_count": 93,
     "metadata": {},
     "output_type": "execute_result"
    }
   ],
   "source": [
    "df=pd.DataFrame({'Brand':brand_tags[0:100],'Product':Product_tags[0:100],'Price':Price_tags[0:100],'Discount':off_tags[0:100]})\n",
    "df"
   ]
  },
  {
   "cell_type": "markdown",
   "id": "3cbcaced",
   "metadata": {},
   "source": [
    "Solution 7"
   ]
  },
  {
   "cell_type": "code",
   "execution_count": 94,
   "id": "77f95336",
   "metadata": {},
   "outputs": [],
   "source": [
    "#import all the required libraries\n",
    "import selenium\n",
    "import pandas as pd\n",
    "from selenium import webdriver\n",
    "import warnings\n",
    "warnings.filterwarnings('ignore')\n",
    "from selenium.webdriver.common.by import By\n",
    "import time"
   ]
  },
  {
   "cell_type": "code",
   "execution_count": 95,
   "id": "8a0f25f3",
   "metadata": {},
   "outputs": [],
   "source": [
    "#Now we will download the webdriver for the web browser.steps for download are-\n",
    "#1.click the version of your browser \n",
    "#2.Go to the link https://chromedriver.chromium.org/downloads\n",
    "#3.Download the webdriver for your version of youe browser"
   ]
  },
  {
   "cell_type": "code",
   "execution_count": 96,
   "id": "8a5d228c",
   "metadata": {},
   "outputs": [],
   "source": [
    "#first connect to the driver\n",
    "driver=webdriver.Chrome(r\"C:\\Users\\palsj\\Downloads\\chromedriver.exe\")"
   ]
  },
  {
   "cell_type": "code",
   "execution_count": 97,
   "id": "e09ab2e5",
   "metadata": {},
   "outputs": [],
   "source": [
    "#opening the myntra page on automated chorme browser\n",
    "driver.get(\"https://www.myntra.com/shoes\")"
   ]
  },
  {
   "cell_type": "code",
   "execution_count": 98,
   "id": "6df504ea",
   "metadata": {},
   "outputs": [],
   "source": [
    "#colour filter to Black\n",
    "Search=driver.find_element(By.XPATH,'//label[@class=\"common-customCheckbox\"]')\n",
    "Search.click()"
   ]
  },
  {
   "cell_type": "code",
   "execution_count": 99,
   "id": "50e61a72",
   "metadata": {},
   "outputs": [],
   "source": [
    "brand_tags=[]"
   ]
  },
  {
   "cell_type": "code",
   "execution_count": 100,
   "id": "4c09c44f",
   "metadata": {},
   "outputs": [],
   "source": [
    "start=0\n",
    "end=2\n",
    "for page in range(start,end):\n",
    "    tags= driver.find_elements(By.XPATH,\"//h3[@class='product-brand']\")\n",
    "    for i in tags:\n",
    "        brand_tags.append(i.text)\n",
    "    next_button=driver.find_element(By.XPATH,\"//li[@class='pagination-next']\")\n",
    "    next_button.click()\n",
    "    time.sleep(3)"
   ]
  },
  {
   "cell_type": "code",
   "execution_count": 101,
   "id": "7c8e6d9e",
   "metadata": {},
   "outputs": [
    {
     "data": {
      "text/plain": [
       "100"
      ]
     },
     "execution_count": 101,
     "metadata": {},
     "output_type": "execute_result"
    }
   ],
   "source": [
    "len(brand_tags)"
   ]
  },
  {
   "cell_type": "code",
   "execution_count": 102,
   "id": "a62e86a0",
   "metadata": {},
   "outputs": [],
   "source": [
    "discription_tags=[]"
   ]
  },
  {
   "cell_type": "code",
   "execution_count": 103,
   "id": "16fa17a4",
   "metadata": {},
   "outputs": [],
   "source": [
    "start=0\n",
    "end=2\n",
    "for page in range(start,end):\n",
    "    tags= driver.find_elements(By.XPATH,\"//h4[@class='product-product']\")\n",
    "    for i in tags:\n",
    "        discription_tags.append(i.text)\n",
    "    next_button=driver.find_element(By.XPATH,\"//li[@class='pagination-next']\")\n",
    "    next_button.click()\n",
    "    time.sleep(3)"
   ]
  },
  {
   "cell_type": "code",
   "execution_count": 104,
   "id": "61bc9eac",
   "metadata": {},
   "outputs": [
    {
     "data": {
      "text/plain": [
       "100"
      ]
     },
     "execution_count": 104,
     "metadata": {},
     "output_type": "execute_result"
    }
   ],
   "source": [
    "len(discription_tags)"
   ]
  },
  {
   "cell_type": "code",
   "execution_count": 105,
   "id": "03e02063",
   "metadata": {},
   "outputs": [],
   "source": [
    "Price_tags=[]"
   ]
  },
  {
   "cell_type": "code",
   "execution_count": 106,
   "id": "f451730c",
   "metadata": {},
   "outputs": [],
   "source": [
    "start=0\n",
    "end=3\n",
    "for page in range(start,end):\n",
    "    tags= driver.find_elements(By.XPATH,\"//span[@class='product-discountedPrice']\")\n",
    "    for i in tags:\n",
    "        Price_tags.append(i.text)\n",
    "    next_button=driver.find_element(By.XPATH,\"//li[@class='pagination-next']\")\n",
    "    next_button.click()\n",
    "    time.sleep(3)"
   ]
  },
  {
   "cell_type": "code",
   "execution_count": 107,
   "id": "8b93442f",
   "metadata": {},
   "outputs": [
    {
     "data": {
      "text/plain": [
       "138"
      ]
     },
     "execution_count": 107,
     "metadata": {},
     "output_type": "execute_result"
    }
   ],
   "source": [
    "len(Price_tags)"
   ]
  },
  {
   "cell_type": "markdown",
   "id": "a2c11712",
   "metadata": {},
   "source": [
    "Creating a dataframe from the above data"
   ]
  },
  {
   "cell_type": "code",
   "execution_count": 108,
   "id": "bb6bf1e0",
   "metadata": {},
   "outputs": [
    {
     "data": {
      "text/html": [
       "<div>\n",
       "<style scoped>\n",
       "    .dataframe tbody tr th:only-of-type {\n",
       "        vertical-align: middle;\n",
       "    }\n",
       "\n",
       "    .dataframe tbody tr th {\n",
       "        vertical-align: top;\n",
       "    }\n",
       "\n",
       "    .dataframe thead th {\n",
       "        text-align: right;\n",
       "    }\n",
       "</style>\n",
       "<table border=\"1\" class=\"dataframe\">\n",
       "  <thead>\n",
       "    <tr style=\"text-align: right;\">\n",
       "      <th></th>\n",
       "      <th>Brand</th>\n",
       "      <th>discription</th>\n",
       "      <th>Price</th>\n",
       "    </tr>\n",
       "  </thead>\n",
       "  <tbody>\n",
       "    <tr>\n",
       "      <th>0</th>\n",
       "      <td>Red Tape</td>\n",
       "      <td>Men Solid Sneakers</td>\n",
       "      <td>Rs. 6475</td>\n",
       "    </tr>\n",
       "    <tr>\n",
       "      <th>1</th>\n",
       "      <td>Puma</td>\n",
       "      <td>Men Trekking Shoes</td>\n",
       "      <td>Rs. 799</td>\n",
       "    </tr>\n",
       "    <tr>\n",
       "      <th>2</th>\n",
       "      <td>Nike</td>\n",
       "      <td>Men BRONEL 3.0 Walking Shoes</td>\n",
       "      <td>Rs. 4674</td>\n",
       "    </tr>\n",
       "    <tr>\n",
       "      <th>3</th>\n",
       "      <td>Puma</td>\n",
       "      <td>Men Ultraboost 5.0 DNA Running</td>\n",
       "      <td>Rs. 2249</td>\n",
       "    </tr>\n",
       "    <tr>\n",
       "      <th>4</th>\n",
       "      <td>Red Tape</td>\n",
       "      <td>Men AIR WINFLO 9 Running Shoes</td>\n",
       "      <td>Rs. 699</td>\n",
       "    </tr>\n",
       "    <tr>\n",
       "      <th>...</th>\n",
       "      <td>...</td>\n",
       "      <td>...</td>\n",
       "      <td>...</td>\n",
       "    </tr>\n",
       "    <tr>\n",
       "      <th>95</th>\n",
       "      <td>Harvard</td>\n",
       "      <td>Men Running Shoes</td>\n",
       "      <td>Rs. 1598</td>\n",
       "    </tr>\n",
       "    <tr>\n",
       "      <th>96</th>\n",
       "      <td>HRX by Hrithik Roshan</td>\n",
       "      <td>Women Textured PU Penny Loafer</td>\n",
       "      <td>Rs. 1999</td>\n",
       "    </tr>\n",
       "    <tr>\n",
       "      <th>97</th>\n",
       "      <td>Roadster</td>\n",
       "      <td>Men Solid Slip-On Shoes</td>\n",
       "      <td>Rs. 4840</td>\n",
       "    </tr>\n",
       "    <tr>\n",
       "      <th>98</th>\n",
       "      <td>Puma</td>\n",
       "      <td>Men Running Shoes</td>\n",
       "      <td>Rs. 4249</td>\n",
       "    </tr>\n",
       "    <tr>\n",
       "      <th>99</th>\n",
       "      <td>Nike</td>\n",
       "      <td>Men Non-Marking Running Shoes</td>\n",
       "      <td>Rs. 4949</td>\n",
       "    </tr>\n",
       "  </tbody>\n",
       "</table>\n",
       "<p>100 rows × 3 columns</p>\n",
       "</div>"
      ],
      "text/plain": [
       "                    Brand                     discription     Price\n",
       "0                Red Tape              Men Solid Sneakers  Rs. 6475\n",
       "1                    Puma              Men Trekking Shoes   Rs. 799\n",
       "2                    Nike    Men BRONEL 3.0 Walking Shoes  Rs. 4674\n",
       "3                    Puma  Men Ultraboost 5.0 DNA Running  Rs. 2249\n",
       "4                Red Tape  Men AIR WINFLO 9 Running Shoes   Rs. 699\n",
       "..                    ...                             ...       ...\n",
       "95                Harvard               Men Running Shoes  Rs. 1598\n",
       "96  HRX by Hrithik Roshan  Women Textured PU Penny Loafer  Rs. 1999\n",
       "97               Roadster         Men Solid Slip-On Shoes  Rs. 4840\n",
       "98                   Puma               Men Running Shoes  Rs. 4249\n",
       "99                   Nike   Men Non-Marking Running Shoes  Rs. 4949\n",
       "\n",
       "[100 rows x 3 columns]"
      ]
     },
     "execution_count": 108,
     "metadata": {},
     "output_type": "execute_result"
    }
   ],
   "source": [
    "df=pd.DataFrame({'Brand':brand_tags,'discription':discription_tags,'Price':Price_tags[0:100]})\n",
    "df"
   ]
  },
  {
   "cell_type": "markdown",
   "id": "a9311bbb",
   "metadata": {},
   "source": [
    "Solution 8"
   ]
  },
  {
   "cell_type": "code",
   "execution_count": 109,
   "id": "9efc242a",
   "metadata": {},
   "outputs": [],
   "source": [
    "#import all the required libraries\n",
    "import selenium\n",
    "import pandas as pd\n",
    "from selenium import webdriver\n",
    "import warnings\n",
    "warnings.filterwarnings('ignore')\n",
    "from selenium.webdriver.common.by import By\n",
    "import time"
   ]
  },
  {
   "cell_type": "code",
   "execution_count": 110,
   "id": "792b210b",
   "metadata": {},
   "outputs": [],
   "source": [
    "#first connect to the driver\n",
    "driver=webdriver.Chrome(r\"C:\\Users\\palsj\\Downloads\\chromedriver.exe\")"
   ]
  },
  {
   "cell_type": "code",
   "execution_count": 111,
   "id": "b8a44d01",
   "metadata": {},
   "outputs": [],
   "source": [
    "#opening the amazon page on automated chorme browser\n",
    "driver.get(\"https://www.amazon.in/\")"
   ]
  },
  {
   "cell_type": "code",
   "execution_count": 112,
   "id": "faa8b3c9",
   "metadata": {},
   "outputs": [],
   "source": [
    "# Enter laptop in search feild and than click on search\n",
    "Product=driver.find_element(By.XPATH,\"/html/body/div[1]/header/div/div[1]/div[2]/div/form/div[2]/div[1]/input\")\n",
    "Product.send_keys(\"Laptop\")"
   ]
  },
  {
   "cell_type": "code",
   "execution_count": 113,
   "id": "6f402b7a",
   "metadata": {},
   "outputs": [],
   "source": [
    "Search=driver.find_element(By.CLASS_NAME,\"nav-right\")\n",
    "Search.click()"
   ]
  },
  {
   "cell_type": "code",
   "execution_count": 114,
   "id": "addfea83",
   "metadata": {},
   "outputs": [],
   "source": [
    "# set cup type intel core i7\n",
    "Search=driver.find_element(By.XPATH,'//i[@class=\"a-icon a-icon-checkbox\"]')\n",
    "Search.click()"
   ]
  },
  {
   "cell_type": "code",
   "execution_count": 115,
   "id": "3f40a941",
   "metadata": {},
   "outputs": [],
   "source": [
    "laptop_title=[]\n",
    "laptop_rating=[]\n",
    "laptop_price=[]"
   ]
  },
  {
   "cell_type": "code",
   "execution_count": 116,
   "id": "2d106864",
   "metadata": {},
   "outputs": [],
   "source": [
    "#Scraping laptop title for the given page\n",
    "title_tags=driver.find_elements(By.XPATH,'//h2[@class=\"a-size-mini a-spacing-none a-color-base s-line-clamp-2\"]')\n",
    "for i in title_tags[0:10]:\n",
    "    title=i.text\n",
    "    laptop_title.append(title)\n",
    "    \n",
    "#Scraping laptops ratings for the given page\n",
    "rating_tags=driver.find_elements(By.XPATH,'//i[@class=\"a-icon a-icon-star-small a-star-small-4 aok-align-bottom\"]')\n",
    "for i in rating_tags[0:10]:\n",
    "    rating=i.text\n",
    "    laptop_rating.append(rating)\n",
    "    \n",
    "#Scraping laptop price for the given page\n",
    "price_tags=driver.find_elements(By.XPATH,'//span[@class=\"a-price-whole\"]')\n",
    "for i in price_tags[0:10]:\n",
    "    price=i.text\n",
    "    laptop_price.append(price)"
   ]
  },
  {
   "cell_type": "code",
   "execution_count": 117,
   "id": "647751f0",
   "metadata": {},
   "outputs": [
    {
     "name": "stdout",
     "output_type": "stream",
     "text": [
      "10 10 10\n"
     ]
    }
   ],
   "source": [
    "print(len(laptop_title),len(laptop_rating),len(laptop_price))"
   ]
  },
  {
   "cell_type": "markdown",
   "id": "bd3f7c81",
   "metadata": {},
   "source": [
    "Creating a dataframe from the above data"
   ]
  },
  {
   "cell_type": "code",
   "execution_count": 118,
   "id": "3b55aa04",
   "metadata": {},
   "outputs": [
    {
     "data": {
      "text/html": [
       "<div>\n",
       "<style scoped>\n",
       "    .dataframe tbody tr th:only-of-type {\n",
       "        vertical-align: middle;\n",
       "    }\n",
       "\n",
       "    .dataframe tbody tr th {\n",
       "        vertical-align: top;\n",
       "    }\n",
       "\n",
       "    .dataframe thead th {\n",
       "        text-align: right;\n",
       "    }\n",
       "</style>\n",
       "<table border=\"1\" class=\"dataframe\">\n",
       "  <thead>\n",
       "    <tr style=\"text-align: right;\">\n",
       "      <th></th>\n",
       "      <th>Title</th>\n",
       "      <th>Ratings</th>\n",
       "      <th>Price</th>\n",
       "    </tr>\n",
       "  </thead>\n",
       "  <tbody>\n",
       "    <tr>\n",
       "      <th>0</th>\n",
       "      <td>Lenovo IdeaPad Slim 5 AMD Ryzen 7 5700U 15.6\"(...</td>\n",
       "      <td></td>\n",
       "      <td>65,817</td>\n",
       "    </tr>\n",
       "    <tr>\n",
       "      <th>1</th>\n",
       "      <td>Lenovo IdeaPad Flex 5 AMD Ryzen 5 5500U 14\" (3...</td>\n",
       "      <td></td>\n",
       "      <td>69,000</td>\n",
       "    </tr>\n",
       "    <tr>\n",
       "      <th>2</th>\n",
       "      <td>Lenovo IdeaPad Slim 3 Intel Celeron N4020 4th ...</td>\n",
       "      <td></td>\n",
       "      <td>27,140</td>\n",
       "    </tr>\n",
       "    <tr>\n",
       "      <th>3</th>\n",
       "      <td>Lenovo IdeaPad Slim 1 Intel Celeron N4020 4th ...</td>\n",
       "      <td></td>\n",
       "      <td>23,100</td>\n",
       "    </tr>\n",
       "    <tr>\n",
       "      <th>4</th>\n",
       "      <td>(Renewed) Lenovo Thinkpad L450 5th Gen Intel C...</td>\n",
       "      <td></td>\n",
       "      <td>17,899</td>\n",
       "    </tr>\n",
       "    <tr>\n",
       "      <th>5</th>\n",
       "      <td>(Renewed) Lenovo Thinkpad T460 14 Inches Lapto...</td>\n",
       "      <td></td>\n",
       "      <td>19,388</td>\n",
       "    </tr>\n",
       "    <tr>\n",
       "      <th>6</th>\n",
       "      <td>Lenovo IdeaPad D330 Intel Celeron N4020 10.1\" ...</td>\n",
       "      <td></td>\n",
       "      <td>21,797</td>\n",
       "    </tr>\n",
       "    <tr>\n",
       "      <th>7</th>\n",
       "      <td>(Renewed) Lenovo Thinkpad L450 5th Gen Intel C...</td>\n",
       "      <td></td>\n",
       "      <td>16,105</td>\n",
       "    </tr>\n",
       "    <tr>\n",
       "      <th>8</th>\n",
       "      <td>Lenovo ThinkBook 15 AMD Ryzen 3 5300U 15.6\" (3...</td>\n",
       "      <td></td>\n",
       "      <td>36,990</td>\n",
       "    </tr>\n",
       "    <tr>\n",
       "      <th>9</th>\n",
       "      <td>(Renewed) Lenovo ThinkPad E470 7th Gen Intel C...</td>\n",
       "      <td></td>\n",
       "      <td>16,999</td>\n",
       "    </tr>\n",
       "  </tbody>\n",
       "</table>\n",
       "</div>"
      ],
      "text/plain": [
       "                                               Title Ratings   Price\n",
       "0  Lenovo IdeaPad Slim 5 AMD Ryzen 7 5700U 15.6\"(...          65,817\n",
       "1  Lenovo IdeaPad Flex 5 AMD Ryzen 5 5500U 14\" (3...          69,000\n",
       "2  Lenovo IdeaPad Slim 3 Intel Celeron N4020 4th ...          27,140\n",
       "3  Lenovo IdeaPad Slim 1 Intel Celeron N4020 4th ...          23,100\n",
       "4  (Renewed) Lenovo Thinkpad L450 5th Gen Intel C...          17,899\n",
       "5  (Renewed) Lenovo Thinkpad T460 14 Inches Lapto...          19,388\n",
       "6  Lenovo IdeaPad D330 Intel Celeron N4020 10.1\" ...          21,797\n",
       "7  (Renewed) Lenovo Thinkpad L450 5th Gen Intel C...          16,105\n",
       "8  Lenovo ThinkBook 15 AMD Ryzen 3 5300U 15.6\" (3...          36,990\n",
       "9  (Renewed) Lenovo ThinkPad E470 7th Gen Intel C...          16,999"
      ]
     },
     "execution_count": 118,
     "metadata": {},
     "output_type": "execute_result"
    }
   ],
   "source": [
    "df=pd.DataFrame({'Title':laptop_title,'Ratings':laptop_rating,'Price':laptop_price})\n",
    "df"
   ]
  },
  {
   "cell_type": "markdown",
   "id": "af2103b1",
   "metadata": {},
   "source": [
    "Solution 10"
   ]
  },
  {
   "cell_type": "code",
   "execution_count": 119,
   "id": "8ff425d2",
   "metadata": {},
   "outputs": [],
   "source": [
    "#import all the required libraries\n",
    "import selenium\n",
    "import pandas as pd\n",
    "from selenium import webdriver\n",
    "import warnings\n",
    "warnings.filterwarnings('ignore')\n",
    "from selenium.webdriver.common.by import By\n",
    "import time"
   ]
  },
  {
   "cell_type": "code",
   "execution_count": 120,
   "id": "6c0be9bb",
   "metadata": {},
   "outputs": [],
   "source": [
    "#first connect to the driver\n",
    "driver=webdriver.Chrome(r\"C:\\Users\\palsj\\Downloads\\chromedriver.exe\")"
   ]
  },
  {
   "cell_type": "code",
   "execution_count": 121,
   "id": "90cbe203",
   "metadata": {},
   "outputs": [],
   "source": [
    "#opening the ambitionbox page on automated chorme browser\n",
    "driver.get(\"https://www.ambitionbox.com/\")"
   ]
  },
  {
   "cell_type": "code",
   "execution_count": 122,
   "id": "b34d47f3",
   "metadata": {},
   "outputs": [],
   "source": [
    "Search=driver.find_element(By.XPATH,'//li[@class=\"navItem\"]')\n",
    "Search.click()"
   ]
  },
  {
   "cell_type": "code",
   "execution_count": 123,
   "id": "8546eaaa",
   "metadata": {},
   "outputs": [],
   "source": [
    "Search=driver.find_element(By.XPATH,'//i[@class=\"icon-chevron-right\"]')\n",
    "Search.click()"
   ]
  },
  {
   "cell_type": "code",
   "execution_count": 124,
   "id": "72f9fc5e",
   "metadata": {},
   "outputs": [],
   "source": [
    "Search=driver.find_element(By.XPATH,'//p[@class=\"subNavDescription\"]')\n",
    "Search.click()"
   ]
  },
  {
   "cell_type": "code",
   "execution_count": 130,
   "id": "d6665518",
   "metadata": {},
   "outputs": [],
   "source": [
    "# Enter Data Scientist in search feild and than click on search\n",
    "Product=driver.find_element(By.XPATH,\"/html/body/div[2]/div/div/main/section[1]/div[2]/div[1]/span/input\")\n",
    "Product.send_keys(\"Data Scientist\")"
   ]
  },
  {
   "cell_type": "code",
   "execution_count": 133,
   "id": "2c5a3e03",
   "metadata": {},
   "outputs": [
    {
     "ename": "ElementNotInteractableException",
     "evalue": "Message: element not interactable\n  (Session info: chrome=107.0.5304.107)\nStacktrace:\nBacktrace:\n\tOrdinal0 [0x00BAACD3+2075859]\n\tOrdinal0 [0x00B3EE61+1633889]\n\tOrdinal0 [0x00A3B680+571008]\n\tOrdinal0 [0x00A6BBD6+768982]\n\tOrdinal0 [0x00A61C76+728182]\n\tOrdinal0 [0x00A8731C+881436]\n\tOrdinal0 [0x00A615BF+726463]\n\tOrdinal0 [0x00A87534+881972]\n\tOrdinal0 [0x00A9B56A+963946]\n\tOrdinal0 [0x00A87136+880950]\n\tOrdinal0 [0x00A5FEFD+720637]\n\tOrdinal0 [0x00A60F3F+724799]\n\tGetHandleVerifier [0x00E5EED2+2769538]\n\tGetHandleVerifier [0x00E50D95+2711877]\n\tGetHandleVerifier [0x00C3A03A+521194]\n\tGetHandleVerifier [0x00C38DA0+516432]\n\tOrdinal0 [0x00B4682C+1665068]\n\tOrdinal0 [0x00B4B128+1683752]\n\tOrdinal0 [0x00B4B215+1683989]\n\tOrdinal0 [0x00B56484+1729668]\n\tBaseThreadInitThunk [0x75E86739+25]\n\tRtlGetFullPathName_UEx [0x770C8FD2+1218]\n\tRtlGetFullPathName_UEx [0x770C8F9D+1165]\n",
     "output_type": "error",
     "traceback": [
      "\u001b[1;31m---------------------------------------------------------------------------\u001b[0m",
      "\u001b[1;31mElementNotInteractableException\u001b[0m           Traceback (most recent call last)",
      "\u001b[1;32m~\\AppData\\Local\\Temp/ipykernel_13372/761598731.py\u001b[0m in \u001b[0;36m<module>\u001b[1;34m\u001b[0m\n\u001b[0;32m      1\u001b[0m \u001b[0mSearch\u001b[0m\u001b[1;33m=\u001b[0m\u001b[0mdriver\u001b[0m\u001b[1;33m.\u001b[0m\u001b[0mfind_element\u001b[0m\u001b[1;33m(\u001b[0m\u001b[0mBy\u001b[0m\u001b[1;33m.\u001b[0m\u001b[0mXPATH\u001b[0m\u001b[1;33m,\u001b[0m\u001b[1;34m'//div[@class=\"suggestion_wrap tt-suggestion tt-selectable\"]'\u001b[0m\u001b[1;33m)\u001b[0m\u001b[1;33m\u001b[0m\u001b[1;33m\u001b[0m\u001b[0m\n\u001b[1;32m----> 2\u001b[1;33m \u001b[0mSearch\u001b[0m\u001b[1;33m.\u001b[0m\u001b[0mclick\u001b[0m\u001b[1;33m(\u001b[0m\u001b[1;33m)\u001b[0m\u001b[1;33m\u001b[0m\u001b[1;33m\u001b[0m\u001b[0m\n\u001b[0m",
      "\u001b[1;32m~\\anaconda3\\lib\\site-packages\\selenium\\webdriver\\remote\\webelement.py\u001b[0m in \u001b[0;36mclick\u001b[1;34m(self)\u001b[0m\n\u001b[0;32m     86\u001b[0m     \u001b[1;32mdef\u001b[0m \u001b[0mclick\u001b[0m\u001b[1;33m(\u001b[0m\u001b[0mself\u001b[0m\u001b[1;33m)\u001b[0m \u001b[1;33m->\u001b[0m \u001b[1;32mNone\u001b[0m\u001b[1;33m:\u001b[0m\u001b[1;33m\u001b[0m\u001b[1;33m\u001b[0m\u001b[0m\n\u001b[0;32m     87\u001b[0m         \u001b[1;34m\"\"\"Clicks the element.\"\"\"\u001b[0m\u001b[1;33m\u001b[0m\u001b[1;33m\u001b[0m\u001b[0m\n\u001b[1;32m---> 88\u001b[1;33m         \u001b[0mself\u001b[0m\u001b[1;33m.\u001b[0m\u001b[0m_execute\u001b[0m\u001b[1;33m(\u001b[0m\u001b[0mCommand\u001b[0m\u001b[1;33m.\u001b[0m\u001b[0mCLICK_ELEMENT\u001b[0m\u001b[1;33m)\u001b[0m\u001b[1;33m\u001b[0m\u001b[1;33m\u001b[0m\u001b[0m\n\u001b[0m\u001b[0;32m     89\u001b[0m \u001b[1;33m\u001b[0m\u001b[0m\n\u001b[0;32m     90\u001b[0m     \u001b[1;32mdef\u001b[0m \u001b[0msubmit\u001b[0m\u001b[1;33m(\u001b[0m\u001b[0mself\u001b[0m\u001b[1;33m)\u001b[0m\u001b[1;33m:\u001b[0m\u001b[1;33m\u001b[0m\u001b[1;33m\u001b[0m\u001b[0m\n",
      "\u001b[1;32m~\\anaconda3\\lib\\site-packages\\selenium\\webdriver\\remote\\webelement.py\u001b[0m in \u001b[0;36m_execute\u001b[1;34m(self, command, params)\u001b[0m\n\u001b[0;32m    394\u001b[0m             \u001b[0mparams\u001b[0m \u001b[1;33m=\u001b[0m \u001b[1;33m{\u001b[0m\u001b[1;33m}\u001b[0m\u001b[1;33m\u001b[0m\u001b[1;33m\u001b[0m\u001b[0m\n\u001b[0;32m    395\u001b[0m         \u001b[0mparams\u001b[0m\u001b[1;33m[\u001b[0m\u001b[1;34m'id'\u001b[0m\u001b[1;33m]\u001b[0m \u001b[1;33m=\u001b[0m \u001b[0mself\u001b[0m\u001b[1;33m.\u001b[0m\u001b[0m_id\u001b[0m\u001b[1;33m\u001b[0m\u001b[1;33m\u001b[0m\u001b[0m\n\u001b[1;32m--> 396\u001b[1;33m         \u001b[1;32mreturn\u001b[0m \u001b[0mself\u001b[0m\u001b[1;33m.\u001b[0m\u001b[0m_parent\u001b[0m\u001b[1;33m.\u001b[0m\u001b[0mexecute\u001b[0m\u001b[1;33m(\u001b[0m\u001b[0mcommand\u001b[0m\u001b[1;33m,\u001b[0m \u001b[0mparams\u001b[0m\u001b[1;33m)\u001b[0m\u001b[1;33m\u001b[0m\u001b[1;33m\u001b[0m\u001b[0m\n\u001b[0m\u001b[0;32m    397\u001b[0m \u001b[1;33m\u001b[0m\u001b[0m\n\u001b[0;32m    398\u001b[0m     \u001b[1;32mdef\u001b[0m \u001b[0mfind_element\u001b[0m\u001b[1;33m(\u001b[0m\u001b[0mself\u001b[0m\u001b[1;33m,\u001b[0m \u001b[0mby\u001b[0m\u001b[1;33m=\u001b[0m\u001b[0mBy\u001b[0m\u001b[1;33m.\u001b[0m\u001b[0mID\u001b[0m\u001b[1;33m,\u001b[0m \u001b[0mvalue\u001b[0m\u001b[1;33m=\u001b[0m\u001b[1;32mNone\u001b[0m\u001b[1;33m)\u001b[0m \u001b[1;33m->\u001b[0m \u001b[0mWebElement\u001b[0m\u001b[1;33m:\u001b[0m\u001b[1;33m\u001b[0m\u001b[1;33m\u001b[0m\u001b[0m\n",
      "\u001b[1;32m~\\anaconda3\\lib\\site-packages\\selenium\\webdriver\\remote\\webdriver.py\u001b[0m in \u001b[0;36mexecute\u001b[1;34m(self, driver_command, params)\u001b[0m\n\u001b[0;32m    427\u001b[0m         \u001b[0mresponse\u001b[0m \u001b[1;33m=\u001b[0m \u001b[0mself\u001b[0m\u001b[1;33m.\u001b[0m\u001b[0mcommand_executor\u001b[0m\u001b[1;33m.\u001b[0m\u001b[0mexecute\u001b[0m\u001b[1;33m(\u001b[0m\u001b[0mdriver_command\u001b[0m\u001b[1;33m,\u001b[0m \u001b[0mparams\u001b[0m\u001b[1;33m)\u001b[0m\u001b[1;33m\u001b[0m\u001b[1;33m\u001b[0m\u001b[0m\n\u001b[0;32m    428\u001b[0m         \u001b[1;32mif\u001b[0m \u001b[0mresponse\u001b[0m\u001b[1;33m:\u001b[0m\u001b[1;33m\u001b[0m\u001b[1;33m\u001b[0m\u001b[0m\n\u001b[1;32m--> 429\u001b[1;33m             \u001b[0mself\u001b[0m\u001b[1;33m.\u001b[0m\u001b[0merror_handler\u001b[0m\u001b[1;33m.\u001b[0m\u001b[0mcheck_response\u001b[0m\u001b[1;33m(\u001b[0m\u001b[0mresponse\u001b[0m\u001b[1;33m)\u001b[0m\u001b[1;33m\u001b[0m\u001b[1;33m\u001b[0m\u001b[0m\n\u001b[0m\u001b[0;32m    430\u001b[0m             response['value'] = self._unwrap_value(\n\u001b[0;32m    431\u001b[0m                 response.get('value', None))\n",
      "\u001b[1;32m~\\anaconda3\\lib\\site-packages\\selenium\\webdriver\\remote\\errorhandler.py\u001b[0m in \u001b[0;36mcheck_response\u001b[1;34m(self, response)\u001b[0m\n\u001b[0;32m    241\u001b[0m                 \u001b[0malert_text\u001b[0m \u001b[1;33m=\u001b[0m \u001b[0mvalue\u001b[0m\u001b[1;33m[\u001b[0m\u001b[1;34m'alert'\u001b[0m\u001b[1;33m]\u001b[0m\u001b[1;33m.\u001b[0m\u001b[0mget\u001b[0m\u001b[1;33m(\u001b[0m\u001b[1;34m'text'\u001b[0m\u001b[1;33m)\u001b[0m\u001b[1;33m\u001b[0m\u001b[1;33m\u001b[0m\u001b[0m\n\u001b[0;32m    242\u001b[0m             \u001b[1;32mraise\u001b[0m \u001b[0mexception_class\u001b[0m\u001b[1;33m(\u001b[0m\u001b[0mmessage\u001b[0m\u001b[1;33m,\u001b[0m \u001b[0mscreen\u001b[0m\u001b[1;33m,\u001b[0m \u001b[0mstacktrace\u001b[0m\u001b[1;33m,\u001b[0m \u001b[0malert_text\u001b[0m\u001b[1;33m)\u001b[0m  \u001b[1;31m# type: ignore[call-arg]  # mypy is not smart enough here\u001b[0m\u001b[1;33m\u001b[0m\u001b[1;33m\u001b[0m\u001b[0m\n\u001b[1;32m--> 243\u001b[1;33m         \u001b[1;32mraise\u001b[0m \u001b[0mexception_class\u001b[0m\u001b[1;33m(\u001b[0m\u001b[0mmessage\u001b[0m\u001b[1;33m,\u001b[0m \u001b[0mscreen\u001b[0m\u001b[1;33m,\u001b[0m \u001b[0mstacktrace\u001b[0m\u001b[1;33m)\u001b[0m\u001b[1;33m\u001b[0m\u001b[1;33m\u001b[0m\u001b[0m\n\u001b[0m",
      "\u001b[1;31mElementNotInteractableException\u001b[0m: Message: element not interactable\n  (Session info: chrome=107.0.5304.107)\nStacktrace:\nBacktrace:\n\tOrdinal0 [0x00BAACD3+2075859]\n\tOrdinal0 [0x00B3EE61+1633889]\n\tOrdinal0 [0x00A3B680+571008]\n\tOrdinal0 [0x00A6BBD6+768982]\n\tOrdinal0 [0x00A61C76+728182]\n\tOrdinal0 [0x00A8731C+881436]\n\tOrdinal0 [0x00A615BF+726463]\n\tOrdinal0 [0x00A87534+881972]\n\tOrdinal0 [0x00A9B56A+963946]\n\tOrdinal0 [0x00A87136+880950]\n\tOrdinal0 [0x00A5FEFD+720637]\n\tOrdinal0 [0x00A60F3F+724799]\n\tGetHandleVerifier [0x00E5EED2+2769538]\n\tGetHandleVerifier [0x00E50D95+2711877]\n\tGetHandleVerifier [0x00C3A03A+521194]\n\tGetHandleVerifier [0x00C38DA0+516432]\n\tOrdinal0 [0x00B4682C+1665068]\n\tOrdinal0 [0x00B4B128+1683752]\n\tOrdinal0 [0x00B4B215+1683989]\n\tOrdinal0 [0x00B56484+1729668]\n\tBaseThreadInitThunk [0x75E86739+25]\n\tRtlGetFullPathName_UEx [0x770C8FD2+1218]\n\tRtlGetFullPathName_UEx [0x770C8F9D+1165]\n"
     ]
    }
   ],
   "source": [
    "Search=driver.find_element(By.XPATH,'//div[@class=\"suggestion_wrap tt-suggestion tt-selectable\"]')\n",
    "Search.click()"
   ]
  },
  {
   "cell_type": "code",
   "execution_count": 129,
   "id": "8b14a87d",
   "metadata": {},
   "outputs": [],
   "source": [
    "Company_tage=[]"
   ]
  },
  {
   "cell_type": "code",
   "execution_count": null,
   "id": "3508885a",
   "metadata": {},
   "outputs": [],
   "source": [
    "#Scraping Company name for the given page\n",
    "title_tags=driver.find_elements(By.XPATH,'//a[@class=\"\"]')\n",
    "for i in title_tags[0:10]:\n",
    "    title=i.text\n",
    "    Company_tage.append(title)"
   ]
  }
 ],
 "metadata": {
  "kernelspec": {
   "display_name": "Python 3 (ipykernel)",
   "language": "python",
   "name": "python3"
  },
  "language_info": {
   "codemirror_mode": {
    "name": "ipython",
    "version": 3
   },
   "file_extension": ".py",
   "mimetype": "text/x-python",
   "name": "python",
   "nbconvert_exporter": "python",
   "pygments_lexer": "ipython3",
   "version": "3.9.7"
  }
 },
 "nbformat": 4,
 "nbformat_minor": 5
}
